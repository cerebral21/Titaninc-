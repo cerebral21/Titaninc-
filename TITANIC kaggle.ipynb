{
 "cells": [
  {
   "cell_type": "code",
   "execution_count": 2,
   "metadata": {},
   "outputs": [],
   "source": [
    "# linear algebra\n",
    "import numpy as np \n",
    "\n",
    "# data processing\n",
    "import pandas as pd \n",
    "\n",
    "# data visualization\n",
    "import seaborn as sns\n",
    "%matplotlib inline\n",
    "from matplotlib import pyplot as plt\n",
    "from matplotlib import style\n",
    "\n",
    "# Algorithm\n",
    "\n",
    "from catboost import Pool, CatBoostClassifier, cv\n",
    "from sklearn.model_selection import train_test_split\n",
    "from sklearn.metrics import accuracy_score"
   ]
  },
  {
   "cell_type": "code",
   "execution_count": 4,
   "metadata": {},
   "outputs": [],
   "source": [
    "train = pd.read_csv('F:/pdfs/titanic kaggle dataset/train.csv')\n",
    "test = pd.read_csv('F:/pdfs/titanic kaggle dataset/test.csv')"
   ]
  },
  {
   "cell_type": "code",
   "execution_count": 5,
   "metadata": {},
   "outputs": [
    {
     "name": "stdout",
     "output_type": "stream",
     "text": [
      "<class 'pandas.core.frame.DataFrame'>\n",
      "RangeIndex: 891 entries, 0 to 890\n",
      "Data columns (total 12 columns):\n",
      "PassengerId    891 non-null int64\n",
      "Survived       891 non-null int64\n",
      "Pclass         891 non-null int64\n",
      "Name           891 non-null object\n",
      "Sex            891 non-null object\n",
      "Age            714 non-null float64\n",
      "SibSp          891 non-null int64\n",
      "Parch          891 non-null int64\n",
      "Ticket         891 non-null object\n",
      "Fare           891 non-null float64\n",
      "Cabin          204 non-null object\n",
      "Embarked       889 non-null object\n",
      "dtypes: float64(2), int64(5), object(5)\n",
      "memory usage: 83.7+ KB\n"
     ]
    }
   ],
   "source": [
    "train.info()"
   ]
  },
  {
   "cell_type": "code",
   "execution_count": 6,
   "metadata": {},
   "outputs": [
    {
     "data": {
      "text/html": [
       "<div>\n",
       "<style scoped>\n",
       "    .dataframe tbody tr th:only-of-type {\n",
       "        vertical-align: middle;\n",
       "    }\n",
       "\n",
       "    .dataframe tbody tr th {\n",
       "        vertical-align: top;\n",
       "    }\n",
       "\n",
       "    .dataframe thead th {\n",
       "        text-align: right;\n",
       "    }\n",
       "</style>\n",
       "<table border=\"1\" class=\"dataframe\">\n",
       "  <thead>\n",
       "    <tr style=\"text-align: right;\">\n",
       "      <th></th>\n",
       "      <th>Total</th>\n",
       "      <th>%</th>\n",
       "    </tr>\n",
       "  </thead>\n",
       "  <tbody>\n",
       "    <tr>\n",
       "      <td>Cabin</td>\n",
       "      <td>687</td>\n",
       "      <td>77.1</td>\n",
       "    </tr>\n",
       "    <tr>\n",
       "      <td>Age</td>\n",
       "      <td>177</td>\n",
       "      <td>19.9</td>\n",
       "    </tr>\n",
       "    <tr>\n",
       "      <td>Embarked</td>\n",
       "      <td>2</td>\n",
       "      <td>0.2</td>\n",
       "    </tr>\n",
       "    <tr>\n",
       "      <td>Fare</td>\n",
       "      <td>0</td>\n",
       "      <td>0.0</td>\n",
       "    </tr>\n",
       "    <tr>\n",
       "      <td>Ticket</td>\n",
       "      <td>0</td>\n",
       "      <td>0.0</td>\n",
       "    </tr>\n",
       "    <tr>\n",
       "      <td>Parch</td>\n",
       "      <td>0</td>\n",
       "      <td>0.0</td>\n",
       "    </tr>\n",
       "    <tr>\n",
       "      <td>SibSp</td>\n",
       "      <td>0</td>\n",
       "      <td>0.0</td>\n",
       "    </tr>\n",
       "    <tr>\n",
       "      <td>Sex</td>\n",
       "      <td>0</td>\n",
       "      <td>0.0</td>\n",
       "    </tr>\n",
       "    <tr>\n",
       "      <td>Name</td>\n",
       "      <td>0</td>\n",
       "      <td>0.0</td>\n",
       "    </tr>\n",
       "    <tr>\n",
       "      <td>Pclass</td>\n",
       "      <td>0</td>\n",
       "      <td>0.0</td>\n",
       "    </tr>\n",
       "    <tr>\n",
       "      <td>Survived</td>\n",
       "      <td>0</td>\n",
       "      <td>0.0</td>\n",
       "    </tr>\n",
       "    <tr>\n",
       "      <td>PassengerId</td>\n",
       "      <td>0</td>\n",
       "      <td>0.0</td>\n",
       "    </tr>\n",
       "  </tbody>\n",
       "</table>\n",
       "</div>"
      ],
      "text/plain": [
       "             Total     %\n",
       "Cabin          687  77.1\n",
       "Age            177  19.9\n",
       "Embarked         2   0.2\n",
       "Fare             0   0.0\n",
       "Ticket           0   0.0\n",
       "Parch            0   0.0\n",
       "SibSp            0   0.0\n",
       "Sex              0   0.0\n",
       "Name             0   0.0\n",
       "Pclass           0   0.0\n",
       "Survived         0   0.0\n",
       "PassengerId      0   0.0"
      ]
     },
     "execution_count": 6,
     "metadata": {},
     "output_type": "execute_result"
    }
   ],
   "source": [
    "total = train.isnull().sum().sort_values(ascending=False)\n",
    "percent_1 = train.isnull().sum()/train.isnull().count()*100\n",
    "percent_2 = (round(percent_1, 1)).sort_values(ascending=False)\n",
    "missing_data = pd.concat([total, percent_2], axis=1, keys=['Total', '%'])\n",
    "\n",
    "missing_data"
   ]
  },
  {
   "cell_type": "markdown",
   "metadata": {},
   "source": [
    "This shows that there are only 3 attributes with NaN values"
   ]
  },
  {
   "cell_type": "code",
   "execution_count": 7,
   "metadata": {},
   "outputs": [
    {
     "data": {
      "text/plain": [
       "array(['PassengerId', 'Survived', 'Pclass', 'Name', 'Sex', 'Age', 'SibSp',\n",
       "       'Parch', 'Ticket', 'Fare', 'Cabin', 'Embarked'], dtype=object)"
      ]
     },
     "execution_count": 7,
     "metadata": {},
     "output_type": "execute_result"
    }
   ],
   "source": [
    "train.columns.values"
   ]
  },
  {
   "cell_type": "code",
   "execution_count": 8,
   "metadata": {},
   "outputs": [],
   "source": [
    "def bar_chart(feature):\n",
    "    survived=train[train['Survived']==1][feature].value_counts()\n",
    "    dead=train[train['Survived']==0][feature].value_counts()\n",
    "    df=pd.DataFrame([survived, dead])\n",
    "    df.index = ['survived', 'dead']\n",
    "    df.plot(kind='bar', stacked=False, figsize=(10,5))"
   ]
  },
  {
   "cell_type": "code",
   "execution_count": 9,
   "metadata": {},
   "outputs": [
    {
     "data": {
      "image/png": "[encoded data removed]",
      "text/plain": [
       "<Figure size 720x360 with 1 Axes>"
      ]
     },
     "metadata": {
      "needs_background": "light"
     },
     "output_type": "display_data"
    }
   ],
   "source": [
    "bar_chart('Sex')"
   ]
  },
  {
   "cell_type": "code",
   "execution_count": 10,
   "metadata": {},
   "outputs": [
    {
     "data": {
      "image/png": "[encoded data removed]",
      "text/plain": [
       "<Figure size 720x360 with 1 Axes>"
      ]
     },
     "metadata": {
      "needs_background": "light"
     },
     "output_type": "display_data"
    }
   ],
   "source": [
    "bar_chart('Pclass')"
   ]
  },
  {
   "cell_type": "code",
   "execution_count": 11,
   "metadata": {},
   "outputs": [
    {
     "data": {
      "image/png": "[encoded data removed]",
      "text/plain": [
       "<Figure size 720x360 with 1 Axes>"
      ]
     },
     "metadata": {
      "needs_background": "light"
     },
     "output_type": "display_data"
    }
   ],
   "source": [
    "bar_chart('Embarked')"
   ]
  },
  {
   "cell_type": "code",
   "execution_count": 12,
   "metadata": {},
   "outputs": [
    {
     "data": {
      "image/png": "[encoded data removed]",
      "text/plain": [
       "<Figure size 720x360 with 1 Axes>"
      ]
     },
     "metadata": {
      "needs_background": "light"
     },
     "output_type": "display_data"
    }
   ],
   "source": [
    "bar_chart('SibSp')"
   ]
  },
  {
   "cell_type": "code",
   "execution_count": 13,
   "metadata": {},
   "outputs": [
    {
     "data": {
      "image/png": "[encoded data removed]",
      "text/plain": [
       "<Figure size 720x360 with 1 Axes>"
      ]
     },
     "metadata": {
      "needs_background": "light"
     },
     "output_type": "display_data"
    }
   ],
   "source": [
    "bar_chart('Parch')"
   ]
  },
  {
   "cell_type": "code",
   "execution_count": 14,
   "metadata": {},
   "outputs": [],
   "source": [
    "data = [train, test]\n",
    "for dataset in data:\n",
    "    dataset['relatives'] = dataset['SibSp'] + dataset['Parch']\n",
    "    dataset.loc[dataset['relatives'] > 0, '_alone'] = 0\n",
    "    dataset.loc[dataset['relatives'] == 0, '_alone'] = 1\n",
    "    dataset['_alone'] = dataset['_alone'].astype(int)\n",
    "    train['_alone'].value_counts()"
   ]
  },
  {
   "cell_type": "code",
   "execution_count": 15,
   "metadata": {},
   "outputs": [],
   "source": [
    "import re\n",
    "deck = {\"A\": 1, \"B\": 2, \"C\": 3, \"D\": 4, \"E\": 5, \"F\": 6, \"G\": 7, \"U\": 8}\n",
    "data = [train, test]\n",
    "\n",
    "for dataset in data:\n",
    "    dataset['Cabin'] = dataset['Cabin'].fillna(\"U0\")\n",
    "    dataset['Deck'] = dataset['Cabin'].map(lambda x: re.compile(\"([a-zA-Z]+)\").search(x).group())\n",
    "    dataset['Deck'] = dataset['Deck'].map(deck)\n",
    "    dataset['Deck'] = dataset['Deck'].fillna(0)\n",
    "    dataset['Deck'] = dataset['Deck'].astype(int)# we can now drop the cabin feature\n",
    "train = train.drop(['Cabin'], axis=1)\n",
    "test = test.drop(['Cabin'], axis=1)"
   ]
  },
  {
   "cell_type": "code",
   "execution_count": 16,
   "metadata": {},
   "outputs": [
    {
     "data": {
      "image/png": "[encoded data removed]",
      "text/plain": [
       "<Figure size 720x360 with 1 Axes>"
      ]
     },
     "metadata": {
      "needs_background": "light"
     },
     "output_type": "display_data"
    }
   ],
   "source": [
    "bar_chart('Deck')"
   ]
  },
  {
   "cell_type": "code",
   "execution_count": 17,
   "metadata": {},
   "outputs": [
    {
     "data": {
      "image/png": "[encoded data removed]",
      "text/plain": [
       "<Figure size 720x360 with 1 Axes>"
      ]
     },
     "metadata": {
      "needs_background": "light"
     },
     "output_type": "display_data"
    }
   ],
   "source": [
    "bar_chart('_alone')"
   ]
  },
  {
   "cell_type": "code",
   "execution_count": 19,
   "metadata": {},
   "outputs": [],
   "source": [
    "data = [train, test]\n",
    "\n",
    "for dataset in data:\n",
    "    mean = train[\"Age\"].mean()\n",
    "    std = test[\"Age\"].std()\n",
    "    is_null = dataset[\"Age\"].isnull().sum()\n",
    "    # compute random numbers between the mean, std and is_null\n",
    "    rand_age = np.random.randint(mean - std, mean + std, size = is_null)\n",
    "    # fill NaN values in Age column with random values generated\n",
    "    age_slice = dataset[\"Age\"].copy()\n",
    "    age_slice[np.isnan(age_slice)] = rand_age\n",
    "    dataset[\"Age\"] = age_slice\n",
    "    dataset[\"Age\"] = train[\"Age\"].astype(int)"
   ]
  },
  {
   "cell_type": "code",
   "execution_count": 20,
   "metadata": {},
   "outputs": [
    {
     "data": {
      "text/plain": [
       "0"
      ]
     },
     "execution_count": 20,
     "metadata": {},
     "output_type": "execute_result"
    }
   ],
   "source": [
    "train[\"Age\"].isnull().sum()"
   ]
  },
  {
   "cell_type": "code",
   "execution_count": 21,
   "metadata": {},
   "outputs": [],
   "source": [
    "train = train.drop(['Ticket'], axis=1)\n",
    "test = test.drop(['Ticket'], axis=1)\n",
    "train = train.drop(['SibSp'], axis=1)\n",
    "test = test.drop(['Parch'], axis=1)\n",
    "train = train.drop(['Parch'], axis=1)\n",
    "test = test.drop(['SibSp'], axis=1)"
   ]
  },
  {
   "cell_type": "code",
   "execution_count": 22,
   "metadata": {},
   "outputs": [
    {
     "data": {
      "text/plain": [
       "array(['PassengerId', 'Survived', 'Pclass', 'Name', 'Sex', 'Age', 'Fare',\n",
       "       'Embarked', 'relatives', '_alone', 'Deck'], dtype=object)"
      ]
     },
     "execution_count": 22,
     "metadata": {},
     "output_type": "execute_result"
    }
   ],
   "source": [
    "train.columns.values"
   ]
  },
  {
   "cell_type": "code",
   "execution_count": 23,
   "metadata": {},
   "outputs": [
    {
     "data": {
      "text/plain": [
       "0"
      ]
     },
     "execution_count": 23,
     "metadata": {},
     "output_type": "execute_result"
    }
   ],
   "source": [
    "train.Sex.isnull().sum()\n"
   ]
  },
  {
   "cell_type": "code",
   "execution_count": 24,
   "metadata": {},
   "outputs": [],
   "source": [
    "ports = {\"S\": 0, \"C\": 1, \"Q\": 2}\n",
    "data = [train, test]\n",
    "\n",
    "for dataset in data:\n",
    "    dataset['Embarked'] = dataset['Embarked'].map(ports)\n",
    "    dataset['Embarked'] = dataset['Embarked'].fillna(0)"
   ]
  },
  {
   "cell_type": "code",
   "execution_count": 25,
   "metadata": {},
   "outputs": [],
   "source": [
    "genders = {\"male\": 0, \"female\": 1}\n",
    "data = [train, test]\n",
    "\n",
    "for dataset in data:\n",
    "    dataset['Sex'] = dataset['Sex'].map(genders)"
   ]
  },
  {
   "cell_type": "code",
   "execution_count": 26,
   "metadata": {},
   "outputs": [
    {
     "data": {
      "text/plain": [
       "0"
      ]
     },
     "execution_count": 26,
     "metadata": {},
     "output_type": "execute_result"
    }
   ],
   "source": [
    "train[\"Fare\"].isnull().sum()"
   ]
  },
  {
   "cell_type": "code",
   "execution_count": 27,
   "metadata": {},
   "outputs": [
    {
     "data": {
      "text/plain": [
       "0     7.2500\n",
       "1    71.2833\n",
       "2     7.9250\n",
       "3    53.1000\n",
       "4     8.0500\n",
       "5     8.4583\n",
       "6    51.8625\n",
       "7    21.0750\n",
       "8    11.1333\n",
       "9    30.0708\n",
       "Name: Fare, dtype: float64"
      ]
     },
     "execution_count": 27,
     "metadata": {},
     "output_type": "execute_result"
    }
   ],
   "source": [
    "train.Fare.head(10)"
   ]
  },
  {
   "cell_type": "code",
   "execution_count": 39,
   "metadata": {},
   "outputs": [],
   "source": [
    "Fxx=train[\"Fare\"].mean()"
   ]
  },
  {
   "cell_type": "code",
   "execution_count": 40,
   "metadata": {},
   "outputs": [],
   "source": [
    "data = [train, test]\n",
    "\n",
    "for dataset in data:\n",
    "    dataset['Fare'] = dataset['Fare'].fillna(Fxx)\n",
    "    dataset['Fare'] = dataset['Fare'].astype(int)"
   ]
  },
  {
   "cell_type": "code",
   "execution_count": 28,
   "metadata": {},
   "outputs": [],
   "source": [
    "data = [train, test]\n",
    "titles = {\"Mr\": 1, \"Miss\": 2, \"Mrs\": 3, \"Master\": 4, \"Rare\": 5}\n",
    "\n",
    "for dataset in data:\n",
    "    dataset['Title'] = dataset.Name.str.extract(' ([A-Za-z]+)\\.', expand=False)\n",
    "    \n",
    "    dataset['Title'] = dataset['Title'].replace(['Lady','Countess','Capt','Col','Don','Dr',\\\n",
    "                                                 'Major','Rev','Sir','Jonkheer','Dona'], 'Rare')\n",
    "    dataset['Title'] = dataset['Title'].replace('Mlle', 'Miss')\n",
    "    dataset['Title'] = dataset['Title'].replace('Ms', 'Miss')\n",
    "    dataset['Title'] = dataset['Title'].replace('Mme', 'Mrs')\n",
    "    \n",
    "    dataset['Title'] = dataset['Title'].map(titles)"
   ]
  },
  {
   "cell_type": "code",
   "execution_count": 29,
   "metadata": {},
   "outputs": [],
   "source": [
    "train = train.drop(['Name'], axis=1)\n",
    "test = test.drop(['Name'], axis=1)"
   ]
  },
  {
   "cell_type": "code",
   "execution_count": 30,
   "metadata": {},
   "outputs": [
    {
     "data": {
      "text/plain": [
       "array(['PassengerId', 'Survived', 'Pclass', 'Sex', 'Age', 'Fare',\n",
       "       'Embarked', 'relatives', '_alone', 'Deck', 'Title'], dtype=object)"
      ]
     },
     "execution_count": 30,
     "metadata": {},
     "output_type": "execute_result"
    }
   ],
   "source": [
    "train.columns.values"
   ]
  },
  {
   "cell_type": "code",
   "execution_count": 31,
   "metadata": {},
   "outputs": [
    {
     "data": {
      "image/png": "[encoded data removed]",
      "text/plain": [
       "<Figure size 720x360 with 1 Axes>"
      ]
     },
     "metadata": {
      "needs_background": "light"
     },
     "output_type": "display_data"
    }
   ],
   "source": [
    "bar_chart('Title')"
   ]
  },
  {
   "cell_type": "code",
   "execution_count": 32,
   "metadata": {},
   "outputs": [],
   "source": [
    "data = [train, test]\n",
    "for dataset in data:\n",
    "    dataset['Age'] = dataset['Age'].astype(int)\n",
    "    dataset.loc[ dataset['Age'] <= 11, 'Age'] = 0\n",
    "    dataset.loc[(dataset['Age'] > 11) & (dataset['Age'] <= 18), 'Age'] = 1\n",
    "    dataset.loc[(dataset['Age'] > 18) & (dataset['Age'] <= 22), 'Age'] = 2\n",
    "    dataset.loc[(dataset['Age'] > 22) & (dataset['Age'] <= 27), 'Age'] = 3\n",
    "    dataset.loc[(dataset['Age'] > 27) & (dataset['Age'] <= 33), 'Age'] = 4\n",
    "    dataset.loc[(dataset['Age'] > 33) & (dataset['Age'] <= 40), 'Age'] = 5\n",
    "    dataset.loc[(dataset['Age'] > 40) & (dataset['Age'] <= 66), 'Age'] = 6\n",
    "    dataset.loc[ dataset['Age'] > 66, 'Age'] = 7"
   ]
  },
  {
   "cell_type": "code",
   "execution_count": 33,
   "metadata": {},
   "outputs": [
    {
     "data": {
      "image/png": "[encoded data removed]",
      "text/plain": [
       "<Figure size 720x360 with 1 Axes>"
      ]
     },
     "metadata": {
      "needs_background": "light"
     },
     "output_type": "display_data"
    }
   ],
   "source": [
    "bar_chart('Age')"
   ]
  },
  {
   "cell_type": "code",
   "execution_count": 34,
   "metadata": {},
   "outputs": [
    {
     "data": {
      "image/png": "[encoded data removed]",
      "text/plain": [
       "<Figure size 720x360 with 1 Axes>"
      ]
     },
     "metadata": {
      "needs_background": "light"
     },
     "output_type": "display_data"
    }
   ],
   "source": [
    "bar_chart('Pclass')"
   ]
  },
  {
   "cell_type": "code",
   "execution_count": 36,
   "metadata": {},
   "outputs": [
    {
     "data": {
      "text/plain": [
       "PassengerId      int64\n",
       "Survived         int64\n",
       "Pclass           int64\n",
       "Sex              int64\n",
       "Age              int32\n",
       "Fare           float64\n",
       "Embarked       float64\n",
       "relatives        int64\n",
       "_alone           int32\n",
       "Deck             int32\n",
       "Title            int64\n",
       "dtype: object"
      ]
     },
     "execution_count": 36,
     "metadata": {},
     "output_type": "execute_result"
    }
   ],
   "source": [
    "train.dtypes"
   ]
  },
  {
   "cell_type": "code",
   "execution_count": 37,
   "metadata": {},
   "outputs": [],
   "source": [
    "data = [train, test]\n",
    "\n",
    "for dataset in data:\n",
    "    dataset['Embarked'] = dataset['Embarked'].astype(int)"
   ]
  },
  {
   "cell_type": "code",
   "execution_count": 38,
   "metadata": {},
   "outputs": [
    {
     "data": {
      "text/plain": [
       "PassengerId      int64\n",
       "Survived         int64\n",
       "Pclass           int64\n",
       "Sex              int64\n",
       "Age              int32\n",
       "Fare           float64\n",
       "Embarked         int32\n",
       "relatives        int64\n",
       "_alone           int32\n",
       "Deck             int32\n",
       "Title            int64\n",
       "dtype: object"
      ]
     },
     "execution_count": 38,
     "metadata": {},
     "output_type": "execute_result"
    }
   ],
   "source": [
    "train.dtypes"
   ]
  },
  {
   "cell_type": "code",
   "execution_count": 45,
   "metadata": {},
   "outputs": [],
   "source": [
    "X = train.drop(\"Survived\", axis=1)\n",
    "Y = train[\"Survived\"]\n"
   ]
  },
  {
   "cell_type": "code",
   "execution_count": 66,
   "metadata": {},
   "outputs": [],
   "source": [
    "cat_feat=['Pclass', 'Sex', 'Age', 'Embarked', '_alone', 'Title', 'Deck']"
   ]
  },
  {
   "cell_type": "code",
   "execution_count": 67,
   "metadata": {},
   "outputs": [],
   "source": [
    "xtrain,xtest,ytrain,ytest = train_test_split(X,Y,train_size=.82,random_state=1234)"
   ]
  },
  {
   "cell_type": "code",
   "execution_count": 68,
   "metadata": {},
   "outputs": [],
   "source": [
    "model = CatBoostClassifier(eval_metric='Accuracy',use_best_model=True,random_seed=87)"
   ]
  },
  {
   "cell_type": "code",
   "execution_count": 69,
   "metadata": {},
   "outputs": [
    {
     "name": "stdout",
     "output_type": "stream",
     "text": [
      "Learning rate set to 0.029319\n",
      "0:\tlearn: 0.8136986\ttest: 0.7639752\tbest: 0.7639752 (0)\ttotal: 43.5ms\tremaining: 43.5s\n",
      "1:\tlearn: 0.8123288\ttest: 0.8012422\tbest: 0.8012422 (1)\ttotal: 63.7ms\tremaining: 31.8s\n",
      "2:\tlearn: 0.8109589\ttest: 0.8136646\tbest: 0.8136646 (2)\ttotal: 97.5ms\tremaining: 32.4s\n",
      "3:\tlearn: 0.8219178\ttest: 0.8198758\tbest: 0.8198758 (3)\ttotal: 119ms\tremaining: 29.6s\n",
      "4:\tlearn: 0.8246575\ttest: 0.8198758\tbest: 0.8198758 (3)\ttotal: 132ms\tremaining: 26.3s\n",
      "5:\tlearn: 0.8260274\ttest: 0.8260870\tbest: 0.8260870 (5)\ttotal: 139ms\tremaining: 23s\n",
      "6:\tlearn: 0.8246575\ttest: 0.8260870\tbest: 0.8260870 (5)\ttotal: 141ms\tremaining: 20s\n",
      "7:\tlearn: 0.8232877\ttest: 0.8198758\tbest: 0.8260870 (5)\ttotal: 148ms\tremaining: 18.3s\n",
      "8:\tlearn: 0.8232877\ttest: 0.8322981\tbest: 0.8322981 (8)\ttotal: 152ms\tremaining: 16.7s\n",
      "9:\tlearn: 0.8232877\ttest: 0.8385093\tbest: 0.8385093 (9)\ttotal: 177ms\tremaining: 17.5s\n",
      "10:\tlearn: 0.8301370\ttest: 0.8509317\tbest: 0.8509317 (10)\ttotal: 185ms\tremaining: 16.6s\n",
      "11:\tlearn: 0.8273973\ttest: 0.8447205\tbest: 0.8509317 (10)\ttotal: 187ms\tremaining: 15.4s\n",
      "12:\tlearn: 0.8301370\ttest: 0.8447205\tbest: 0.8509317 (10)\ttotal: 197ms\tremaining: 15s\n",
      "13:\tlearn: 0.8287671\ttest: 0.8385093\tbest: 0.8509317 (10)\ttotal: 205ms\tremaining: 14.4s\n",
      "14:\tlearn: 0.8287671\ttest: 0.8509317\tbest: 0.8509317 (10)\ttotal: 209ms\tremaining: 13.7s\n",
      "15:\tlearn: 0.8287671\ttest: 0.8509317\tbest: 0.8509317 (10)\ttotal: 214ms\tremaining: 13.2s\n",
      "16:\tlearn: 0.8315068\ttest: 0.8571429\tbest: 0.8571429 (16)\ttotal: 219ms\tremaining: 12.7s\n",
      "17:\tlearn: 0.8315068\ttest: 0.8571429\tbest: 0.8571429 (16)\ttotal: 224ms\tremaining: 12.2s\n",
      "18:\tlearn: 0.8315068\ttest: 0.8571429\tbest: 0.8571429 (16)\ttotal: 233ms\tremaining: 12s\n",
      "19:\tlearn: 0.8328767\ttest: 0.8571429\tbest: 0.8571429 (16)\ttotal: 240ms\tremaining: 11.8s\n",
      "20:\tlearn: 0.8301370\ttest: 0.8571429\tbest: 0.8571429 (16)\ttotal: 245ms\tremaining: 11.4s\n",
      "21:\tlearn: 0.8315068\ttest: 0.8571429\tbest: 0.8571429 (16)\ttotal: 251ms\tremaining: 11.2s\n",
      "22:\tlearn: 0.8328767\ttest: 0.8571429\tbest: 0.8571429 (16)\ttotal: 254ms\tremaining: 10.8s\n",
      "23:\tlearn: 0.8315068\ttest: 0.8571429\tbest: 0.8571429 (16)\ttotal: 259ms\tremaining: 10.5s\n",
      "24:\tlearn: 0.8328767\ttest: 0.8633540\tbest: 0.8633540 (24)\ttotal: 266ms\tremaining: 10.4s\n",
      "25:\tlearn: 0.8315068\ttest: 0.8633540\tbest: 0.8633540 (24)\ttotal: 267ms\tremaining: 10s\n",
      "26:\tlearn: 0.8356164\ttest: 0.8633540\tbest: 0.8633540 (24)\ttotal: 275ms\tremaining: 9.92s\n",
      "27:\tlearn: 0.8342466\ttest: 0.8633540\tbest: 0.8633540 (24)\ttotal: 278ms\tremaining: 9.65s\n",
      "28:\tlearn: 0.8342466\ttest: 0.8633540\tbest: 0.8633540 (24)\ttotal: 280ms\tremaining: 9.37s\n",
      "29:\tlearn: 0.8369863\ttest: 0.8633540\tbest: 0.8633540 (24)\ttotal: 284ms\tremaining: 9.18s\n",
      "30:\tlearn: 0.8397260\ttest: 0.8633540\tbest: 0.8633540 (24)\ttotal: 287ms\tremaining: 8.96s\n",
      "31:\tlearn: 0.8397260\ttest: 0.8633540\tbest: 0.8633540 (24)\ttotal: 291ms\tremaining: 8.81s\n",
      "32:\tlearn: 0.8397260\ttest: 0.8633540\tbest: 0.8633540 (24)\ttotal: 296ms\tremaining: 8.66s\n",
      "33:\tlearn: 0.8397260\ttest: 0.8633540\tbest: 0.8633540 (24)\ttotal: 299ms\tremaining: 8.49s\n",
      "34:\tlearn: 0.8397260\ttest: 0.8633540\tbest: 0.8633540 (24)\ttotal: 308ms\tremaining: 8.49s\n",
      "35:\tlearn: 0.8397260\ttest: 0.8633540\tbest: 0.8633540 (24)\ttotal: 312ms\tremaining: 8.36s\n",
      "36:\tlearn: 0.8438356\ttest: 0.8633540\tbest: 0.8633540 (24)\ttotal: 317ms\tremaining: 8.25s\n",
      "37:\tlearn: 0.8424658\ttest: 0.8633540\tbest: 0.8633540 (24)\ttotal: 320ms\tremaining: 8.09s\n",
      "38:\tlearn: 0.8452055\ttest: 0.8571429\tbest: 0.8633540 (24)\ttotal: 324ms\tremaining: 7.99s\n",
      "39:\tlearn: 0.8452055\ttest: 0.8571429\tbest: 0.8633540 (24)\ttotal: 330ms\tremaining: 7.93s\n",
      "40:\tlearn: 0.8452055\ttest: 0.8571429\tbest: 0.8633540 (24)\ttotal: 336ms\tremaining: 7.86s\n",
      "41:\tlearn: 0.8452055\ttest: 0.8571429\tbest: 0.8633540 (24)\ttotal: 341ms\tremaining: 7.78s\n",
      "42:\tlearn: 0.8438356\ttest: 0.8571429\tbest: 0.8633540 (24)\ttotal: 345ms\tremaining: 7.69s\n",
      "43:\tlearn: 0.8452055\ttest: 0.8509317\tbest: 0.8633540 (24)\ttotal: 348ms\tremaining: 7.57s\n",
      "44:\tlearn: 0.8465753\ttest: 0.8509317\tbest: 0.8633540 (24)\ttotal: 350ms\tremaining: 7.44s\n",
      "45:\tlearn: 0.8465753\ttest: 0.8447205\tbest: 0.8633540 (24)\ttotal: 355ms\tremaining: 7.35s\n",
      "46:\tlearn: 0.8479452\ttest: 0.8447205\tbest: 0.8633540 (24)\ttotal: 360ms\tremaining: 7.3s\n",
      "47:\tlearn: 0.8465753\ttest: 0.8447205\tbest: 0.8633540 (24)\ttotal: 367ms\tremaining: 7.28s\n",
      "48:\tlearn: 0.8465753\ttest: 0.8447205\tbest: 0.8633540 (24)\ttotal: 369ms\tremaining: 7.15s\n",
      "49:\tlearn: 0.8438356\ttest: 0.8447205\tbest: 0.8633540 (24)\ttotal: 373ms\tremaining: 7.09s\n",
      "50:\tlearn: 0.8438356\ttest: 0.8385093\tbest: 0.8633540 (24)\ttotal: 376ms\tremaining: 6.99s\n",
      "51:\tlearn: 0.8465753\ttest: 0.8322981\tbest: 0.8633540 (24)\ttotal: 385ms\tremaining: 7.01s\n",
      "52:\tlearn: 0.8465753\ttest: 0.8385093\tbest: 0.8633540 (24)\ttotal: 400ms\tremaining: 7.14s\n",
      "53:\tlearn: 0.8452055\ttest: 0.8385093\tbest: 0.8633540 (24)\ttotal: 407ms\tremaining: 7.13s\n",
      "54:\tlearn: 0.8452055\ttest: 0.8385093\tbest: 0.8633540 (24)\ttotal: 408ms\tremaining: 7.01s\n",
      "55:\tlearn: 0.8465753\ttest: 0.8385093\tbest: 0.8633540 (24)\ttotal: 419ms\tremaining: 7.06s\n",
      "56:\tlearn: 0.8465753\ttest: 0.8385093\tbest: 0.8633540 (24)\ttotal: 426ms\tremaining: 7.04s\n",
      "57:\tlearn: 0.8465753\ttest: 0.8385093\tbest: 0.8633540 (24)\ttotal: 432ms\tremaining: 7.01s\n",
      "58:\tlearn: 0.8465753\ttest: 0.8385093\tbest: 0.8633540 (24)\ttotal: 438ms\tremaining: 6.98s\n",
      "59:\tlearn: 0.8465753\ttest: 0.8385093\tbest: 0.8633540 (24)\ttotal: 447ms\tremaining: 7s\n",
      "60:\tlearn: 0.8465753\ttest: 0.8385093\tbest: 0.8633540 (24)\ttotal: 453ms\tremaining: 6.97s\n",
      "61:\tlearn: 0.8479452\ttest: 0.8385093\tbest: 0.8633540 (24)\ttotal: 456ms\tremaining: 6.9s\n",
      "62:\tlearn: 0.8465753\ttest: 0.8385093\tbest: 0.8633540 (24)\ttotal: 457ms\tremaining: 6.8s\n",
      "63:\tlearn: 0.8465753\ttest: 0.8385093\tbest: 0.8633540 (24)\ttotal: 459ms\tremaining: 6.71s\n",
      "64:\tlearn: 0.8465753\ttest: 0.8385093\tbest: 0.8633540 (24)\ttotal: 463ms\tremaining: 6.66s\n",
      "65:\tlearn: 0.8465753\ttest: 0.8385093\tbest: 0.8633540 (24)\ttotal: 467ms\tremaining: 6.62s\n",
      "66:\tlearn: 0.8465753\ttest: 0.8385093\tbest: 0.8633540 (24)\ttotal: 470ms\tremaining: 6.55s\n",
      "67:\tlearn: 0.8465753\ttest: 0.8385093\tbest: 0.8633540 (24)\ttotal: 476ms\tremaining: 6.53s\n",
      "68:\tlearn: 0.8465753\ttest: 0.8385093\tbest: 0.8633540 (24)\ttotal: 481ms\tremaining: 6.49s\n",
      "69:\tlearn: 0.8479452\ttest: 0.8385093\tbest: 0.8633540 (24)\ttotal: 485ms\tremaining: 6.44s\n",
      "70:\tlearn: 0.8506849\ttest: 0.8385093\tbest: 0.8633540 (24)\ttotal: 493ms\tremaining: 6.45s\n",
      "71:\tlearn: 0.8506849\ttest: 0.8385093\tbest: 0.8633540 (24)\ttotal: 495ms\tremaining: 6.38s\n",
      "72:\tlearn: 0.8479452\ttest: 0.8385093\tbest: 0.8633540 (24)\ttotal: 500ms\tremaining: 6.35s\n",
      "73:\tlearn: 0.8479452\ttest: 0.8385093\tbest: 0.8633540 (24)\ttotal: 509ms\tremaining: 6.37s\n",
      "74:\tlearn: 0.8520548\ttest: 0.8385093\tbest: 0.8633540 (24)\ttotal: 512ms\tremaining: 6.31s\n",
      "75:\tlearn: 0.8520548\ttest: 0.8385093\tbest: 0.8633540 (24)\ttotal: 520ms\tremaining: 6.33s\n",
      "76:\tlearn: 0.8520548\ttest: 0.8447205\tbest: 0.8633540 (24)\ttotal: 528ms\tremaining: 6.32s\n",
      "77:\tlearn: 0.8534247\ttest: 0.8447205\tbest: 0.8633540 (24)\ttotal: 536ms\tremaining: 6.34s\n",
      "78:\tlearn: 0.8520548\ttest: 0.8385093\tbest: 0.8633540 (24)\ttotal: 541ms\tremaining: 6.31s\n",
      "79:\tlearn: 0.8520548\ttest: 0.8385093\tbest: 0.8633540 (24)\ttotal: 551ms\tremaining: 6.34s\n",
      "80:\tlearn: 0.8506849\ttest: 0.8447205\tbest: 0.8633540 (24)\ttotal: 556ms\tremaining: 6.31s\n",
      "81:\tlearn: 0.8520548\ttest: 0.8447205\tbest: 0.8633540 (24)\ttotal: 558ms\tremaining: 6.25s\n",
      "82:\tlearn: 0.8520548\ttest: 0.8447205\tbest: 0.8633540 (24)\ttotal: 565ms\tremaining: 6.24s\n",
      "83:\tlearn: 0.8520548\ttest: 0.8385093\tbest: 0.8633540 (24)\ttotal: 573ms\tremaining: 6.25s\n",
      "84:\tlearn: 0.8520548\ttest: 0.8385093\tbest: 0.8633540 (24)\ttotal: 582ms\tremaining: 6.26s\n",
      "85:\tlearn: 0.8534247\ttest: 0.8447205\tbest: 0.8633540 (24)\ttotal: 587ms\tremaining: 6.23s\n",
      "86:\tlearn: 0.8534247\ttest: 0.8385093\tbest: 0.8633540 (24)\ttotal: 596ms\tremaining: 6.25s\n",
      "87:\tlearn: 0.8534247\ttest: 0.8385093\tbest: 0.8633540 (24)\ttotal: 600ms\tremaining: 6.22s\n",
      "88:\tlearn: 0.8534247\ttest: 0.8447205\tbest: 0.8633540 (24)\ttotal: 605ms\tremaining: 6.2s\n",
      "89:\tlearn: 0.8534247\ttest: 0.8447205\tbest: 0.8633540 (24)\ttotal: 613ms\tremaining: 6.2s\n",
      "90:\tlearn: 0.8547945\ttest: 0.8385093\tbest: 0.8633540 (24)\ttotal: 620ms\tremaining: 6.19s\n",
      "91:\tlearn: 0.8547945\ttest: 0.8385093\tbest: 0.8633540 (24)\ttotal: 621ms\tremaining: 6.13s\n",
      "92:\tlearn: 0.8547945\ttest: 0.8447205\tbest: 0.8633540 (24)\ttotal: 630ms\tremaining: 6.14s\n",
      "93:\tlearn: 0.8561644\ttest: 0.8447205\tbest: 0.8633540 (24)\ttotal: 634ms\tremaining: 6.11s\n",
      "94:\tlearn: 0.8575342\ttest: 0.8447205\tbest: 0.8633540 (24)\ttotal: 641ms\tremaining: 6.11s\n",
      "95:\tlearn: 0.8589041\ttest: 0.8509317\tbest: 0.8633540 (24)\ttotal: 649ms\tremaining: 6.11s\n",
      "96:\tlearn: 0.8589041\ttest: 0.8509317\tbest: 0.8633540 (24)\ttotal: 653ms\tremaining: 6.08s\n",
      "97:\tlearn: 0.8589041\ttest: 0.8509317\tbest: 0.8633540 (24)\ttotal: 657ms\tremaining: 6.05s\n",
      "98:\tlearn: 0.8589041\ttest: 0.8509317\tbest: 0.8633540 (24)\ttotal: 664ms\tremaining: 6.04s\n",
      "99:\tlearn: 0.8589041\ttest: 0.8509317\tbest: 0.8633540 (24)\ttotal: 670ms\tremaining: 6.03s\n",
      "100:\tlearn: 0.8589041\ttest: 0.8509317\tbest: 0.8633540 (24)\ttotal: 671ms\tremaining: 5.97s\n",
      "101:\tlearn: 0.8602740\ttest: 0.8447205\tbest: 0.8633540 (24)\ttotal: 675ms\tremaining: 5.95s\n",
      "102:\tlearn: 0.8616438\ttest: 0.8447205\tbest: 0.8633540 (24)\ttotal: 681ms\tremaining: 5.93s\n",
      "103:\tlearn: 0.8616438\ttest: 0.8447205\tbest: 0.8633540 (24)\ttotal: 684ms\tremaining: 5.89s\n",
      "104:\tlearn: 0.8616438\ttest: 0.8447205\tbest: 0.8633540 (24)\ttotal: 687ms\tremaining: 5.86s\n",
      "105:\tlearn: 0.8630137\ttest: 0.8447205\tbest: 0.8633540 (24)\ttotal: 693ms\tremaining: 5.85s\n",
      "106:\tlearn: 0.8602740\ttest: 0.8447205\tbest: 0.8633540 (24)\ttotal: 701ms\tremaining: 5.85s\n",
      "107:\tlearn: 0.8602740\ttest: 0.8447205\tbest: 0.8633540 (24)\ttotal: 704ms\tremaining: 5.81s\n",
      "108:\tlearn: 0.8630137\ttest: 0.8447205\tbest: 0.8633540 (24)\ttotal: 708ms\tremaining: 5.79s\n",
      "109:\tlearn: 0.8616438\ttest: 0.8447205\tbest: 0.8633540 (24)\ttotal: 716ms\tremaining: 5.79s\n"
     ]
    },
    {
     "name": "stdout",
     "output_type": "stream",
     "text": [
      "110:\tlearn: 0.8616438\ttest: 0.8447205\tbest: 0.8633540 (24)\ttotal: 718ms\tremaining: 5.75s\n",
      "111:\tlearn: 0.8602740\ttest: 0.8447205\tbest: 0.8633540 (24)\ttotal: 727ms\tremaining: 5.76s\n",
      "112:\tlearn: 0.8616438\ttest: 0.8447205\tbest: 0.8633540 (24)\ttotal: 732ms\tremaining: 5.74s\n",
      "113:\tlearn: 0.8616438\ttest: 0.8447205\tbest: 0.8633540 (24)\ttotal: 741ms\tremaining: 5.76s\n",
      "114:\tlearn: 0.8630137\ttest: 0.8447205\tbest: 0.8633540 (24)\ttotal: 766ms\tremaining: 5.89s\n",
      "115:\tlearn: 0.8657534\ttest: 0.8447205\tbest: 0.8633540 (24)\ttotal: 770ms\tremaining: 5.87s\n",
      "116:\tlearn: 0.8657534\ttest: 0.8447205\tbest: 0.8633540 (24)\ttotal: 775ms\tremaining: 5.85s\n",
      "117:\tlearn: 0.8643836\ttest: 0.8447205\tbest: 0.8633540 (24)\ttotal: 784ms\tremaining: 5.86s\n",
      "118:\tlearn: 0.8643836\ttest: 0.8447205\tbest: 0.8633540 (24)\ttotal: 790ms\tremaining: 5.85s\n",
      "119:\tlearn: 0.8630137\ttest: 0.8447205\tbest: 0.8633540 (24)\ttotal: 792ms\tremaining: 5.81s\n",
      "120:\tlearn: 0.8630137\ttest: 0.8447205\tbest: 0.8633540 (24)\ttotal: 800ms\tremaining: 5.81s\n",
      "121:\tlearn: 0.8630137\ttest: 0.8447205\tbest: 0.8633540 (24)\ttotal: 805ms\tremaining: 5.79s\n",
      "122:\tlearn: 0.8630137\ttest: 0.8447205\tbest: 0.8633540 (24)\ttotal: 816ms\tremaining: 5.82s\n",
      "123:\tlearn: 0.8643836\ttest: 0.8447205\tbest: 0.8633540 (24)\ttotal: 824ms\tremaining: 5.82s\n",
      "124:\tlearn: 0.8671233\ttest: 0.8447205\tbest: 0.8633540 (24)\ttotal: 830ms\tremaining: 5.81s\n",
      "125:\tlearn: 0.8671233\ttest: 0.8447205\tbest: 0.8633540 (24)\ttotal: 834ms\tremaining: 5.79s\n",
      "126:\tlearn: 0.8684932\ttest: 0.8447205\tbest: 0.8633540 (24)\ttotal: 837ms\tremaining: 5.75s\n",
      "127:\tlearn: 0.8657534\ttest: 0.8447205\tbest: 0.8633540 (24)\ttotal: 865ms\tremaining: 5.89s\n",
      "128:\tlearn: 0.8671233\ttest: 0.8447205\tbest: 0.8633540 (24)\ttotal: 868ms\tremaining: 5.86s\n",
      "129:\tlearn: 0.8671233\ttest: 0.8447205\tbest: 0.8633540 (24)\ttotal: 880ms\tremaining: 5.89s\n",
      "130:\tlearn: 0.8671233\ttest: 0.8447205\tbest: 0.8633540 (24)\ttotal: 897ms\tremaining: 5.95s\n",
      "131:\tlearn: 0.8671233\ttest: 0.8509317\tbest: 0.8633540 (24)\ttotal: 912ms\tremaining: 6s\n",
      "132:\tlearn: 0.8684932\ttest: 0.8509317\tbest: 0.8633540 (24)\ttotal: 926ms\tremaining: 6.04s\n",
      "133:\tlearn: 0.8698630\ttest: 0.8509317\tbest: 0.8633540 (24)\ttotal: 964ms\tremaining: 6.23s\n",
      "134:\tlearn: 0.8698630\ttest: 0.8509317\tbest: 0.8633540 (24)\ttotal: 977ms\tremaining: 6.26s\n",
      "135:\tlearn: 0.8684932\ttest: 0.8509317\tbest: 0.8633540 (24)\ttotal: 992ms\tremaining: 6.3s\n",
      "136:\tlearn: 0.8684932\ttest: 0.8509317\tbest: 0.8633540 (24)\ttotal: 1.01s\tremaining: 6.36s\n",
      "137:\tlearn: 0.8698630\ttest: 0.8509317\tbest: 0.8633540 (24)\ttotal: 1.02s\tremaining: 6.38s\n",
      "138:\tlearn: 0.8698630\ttest: 0.8509317\tbest: 0.8633540 (24)\ttotal: 1.02s\tremaining: 6.34s\n",
      "139:\tlearn: 0.8712329\ttest: 0.8509317\tbest: 0.8633540 (24)\ttotal: 1.03s\tremaining: 6.33s\n",
      "140:\tlearn: 0.8698630\ttest: 0.8509317\tbest: 0.8633540 (24)\ttotal: 1.04s\tremaining: 6.36s\n",
      "141:\tlearn: 0.8712329\ttest: 0.8509317\tbest: 0.8633540 (24)\ttotal: 1.05s\tremaining: 6.38s\n",
      "142:\tlearn: 0.8712329\ttest: 0.8571429\tbest: 0.8633540 (24)\ttotal: 1.06s\tremaining: 6.35s\n",
      "143:\tlearn: 0.8712329\ttest: 0.8509317\tbest: 0.8633540 (24)\ttotal: 1.07s\tremaining: 6.34s\n",
      "144:\tlearn: 0.8712329\ttest: 0.8571429\tbest: 0.8633540 (24)\ttotal: 1.07s\tremaining: 6.34s\n",
      "145:\tlearn: 0.8712329\ttest: 0.8571429\tbest: 0.8633540 (24)\ttotal: 1.08s\tremaining: 6.34s\n",
      "146:\tlearn: 0.8712329\ttest: 0.8571429\tbest: 0.8633540 (24)\ttotal: 1.09s\tremaining: 6.34s\n",
      "147:\tlearn: 0.8712329\ttest: 0.8571429\tbest: 0.8633540 (24)\ttotal: 1.1s\tremaining: 6.33s\n",
      "148:\tlearn: 0.8739726\ttest: 0.8571429\tbest: 0.8633540 (24)\ttotal: 1.11s\tremaining: 6.35s\n",
      "149:\tlearn: 0.8753425\ttest: 0.8571429\tbest: 0.8633540 (24)\ttotal: 1.12s\tremaining: 6.36s\n",
      "150:\tlearn: 0.8739726\ttest: 0.8509317\tbest: 0.8633540 (24)\ttotal: 1.13s\tremaining: 6.34s\n",
      "151:\tlearn: 0.8739726\ttest: 0.8509317\tbest: 0.8633540 (24)\ttotal: 1.13s\tremaining: 6.31s\n",
      "152:\tlearn: 0.8767123\ttest: 0.8509317\tbest: 0.8633540 (24)\ttotal: 1.14s\tremaining: 6.31s\n",
      "153:\tlearn: 0.8780822\ttest: 0.8509317\tbest: 0.8633540 (24)\ttotal: 1.15s\tremaining: 6.32s\n",
      "154:\tlearn: 0.8780822\ttest: 0.8509317\tbest: 0.8633540 (24)\ttotal: 1.16s\tremaining: 6.31s\n",
      "155:\tlearn: 0.8753425\ttest: 0.8509317\tbest: 0.8633540 (24)\ttotal: 1.16s\tremaining: 6.29s\n",
      "156:\tlearn: 0.8767123\ttest: 0.8509317\tbest: 0.8633540 (24)\ttotal: 1.17s\tremaining: 6.28s\n",
      "157:\tlearn: 0.8753425\ttest: 0.8509317\tbest: 0.8633540 (24)\ttotal: 1.18s\tremaining: 6.27s\n",
      "158:\tlearn: 0.8753425\ttest: 0.8509317\tbest: 0.8633540 (24)\ttotal: 1.18s\tremaining: 6.26s\n",
      "159:\tlearn: 0.8753425\ttest: 0.8509317\tbest: 0.8633540 (24)\ttotal: 1.19s\tremaining: 6.23s\n",
      "160:\tlearn: 0.8767123\ttest: 0.8509317\tbest: 0.8633540 (24)\ttotal: 1.19s\tremaining: 6.22s\n",
      "161:\tlearn: 0.8767123\ttest: 0.8509317\tbest: 0.8633540 (24)\ttotal: 1.2s\tremaining: 6.21s\n",
      "162:\tlearn: 0.8753425\ttest: 0.8509317\tbest: 0.8633540 (24)\ttotal: 1.21s\tremaining: 6.19s\n",
      "163:\tlearn: 0.8780822\ttest: 0.8509317\tbest: 0.8633540 (24)\ttotal: 1.21s\tremaining: 6.17s\n",
      "164:\tlearn: 0.8767123\ttest: 0.8509317\tbest: 0.8633540 (24)\ttotal: 1.22s\tremaining: 6.18s\n",
      "165:\tlearn: 0.8753425\ttest: 0.8509317\tbest: 0.8633540 (24)\ttotal: 1.23s\tremaining: 6.18s\n",
      "166:\tlearn: 0.8780822\ttest: 0.8509317\tbest: 0.8633540 (24)\ttotal: 1.24s\tremaining: 6.17s\n",
      "167:\tlearn: 0.8767123\ttest: 0.8509317\tbest: 0.8633540 (24)\ttotal: 1.24s\tremaining: 6.15s\n",
      "168:\tlearn: 0.8767123\ttest: 0.8509317\tbest: 0.8633540 (24)\ttotal: 1.24s\tremaining: 6.12s\n",
      "169:\tlearn: 0.8780822\ttest: 0.8509317\tbest: 0.8633540 (24)\ttotal: 1.25s\tremaining: 6.11s\n",
      "170:\tlearn: 0.8780822\ttest: 0.8509317\tbest: 0.8633540 (24)\ttotal: 1.25s\tremaining: 6.08s\n",
      "171:\tlearn: 0.8780822\ttest: 0.8509317\tbest: 0.8633540 (24)\ttotal: 1.26s\tremaining: 6.08s\n",
      "172:\tlearn: 0.8780822\ttest: 0.8509317\tbest: 0.8633540 (24)\ttotal: 1.27s\tremaining: 6.07s\n",
      "173:\tlearn: 0.8767123\ttest: 0.8509317\tbest: 0.8633540 (24)\ttotal: 1.28s\tremaining: 6.07s\n",
      "174:\tlearn: 0.8767123\ttest: 0.8509317\tbest: 0.8633540 (24)\ttotal: 1.29s\tremaining: 6.07s\n",
      "175:\tlearn: 0.8767123\ttest: 0.8509317\tbest: 0.8633540 (24)\ttotal: 1.3s\tremaining: 6.08s\n",
      "176:\tlearn: 0.8767123\ttest: 0.8509317\tbest: 0.8633540 (24)\ttotal: 1.3s\tremaining: 6.05s\n",
      "177:\tlearn: 0.8780822\ttest: 0.8509317\tbest: 0.8633540 (24)\ttotal: 1.31s\tremaining: 6.06s\n",
      "178:\tlearn: 0.8767123\ttest: 0.8509317\tbest: 0.8633540 (24)\ttotal: 1.32s\tremaining: 6.05s\n",
      "179:\tlearn: 0.8780822\ttest: 0.8509317\tbest: 0.8633540 (24)\ttotal: 1.32s\tremaining: 6.04s\n",
      "180:\tlearn: 0.8780822\ttest: 0.8509317\tbest: 0.8633540 (24)\ttotal: 1.33s\tremaining: 6.03s\n",
      "181:\tlearn: 0.8780822\ttest: 0.8509317\tbest: 0.8633540 (24)\ttotal: 1.34s\tremaining: 6.03s\n",
      "182:\tlearn: 0.8780822\ttest: 0.8509317\tbest: 0.8633540 (24)\ttotal: 1.35s\tremaining: 6.01s\n",
      "183:\tlearn: 0.8767123\ttest: 0.8509317\tbest: 0.8633540 (24)\ttotal: 1.35s\tremaining: 5.99s\n",
      "184:\tlearn: 0.8767123\ttest: 0.8509317\tbest: 0.8633540 (24)\ttotal: 1.35s\tremaining: 5.97s\n",
      "185:\tlearn: 0.8794521\ttest: 0.8509317\tbest: 0.8633540 (24)\ttotal: 1.36s\tremaining: 5.95s\n",
      "186:\tlearn: 0.8794521\ttest: 0.8509317\tbest: 0.8633540 (24)\ttotal: 1.36s\tremaining: 5.93s\n",
      "187:\tlearn: 0.8794521\ttest: 0.8509317\tbest: 0.8633540 (24)\ttotal: 1.37s\tremaining: 5.91s\n",
      "188:\tlearn: 0.8794521\ttest: 0.8509317\tbest: 0.8633540 (24)\ttotal: 1.37s\tremaining: 5.9s\n",
      "189:\tlearn: 0.8794521\ttest: 0.8509317\tbest: 0.8633540 (24)\ttotal: 1.38s\tremaining: 5.88s\n",
      "190:\tlearn: 0.8794521\ttest: 0.8509317\tbest: 0.8633540 (24)\ttotal: 1.39s\tremaining: 5.87s\n",
      "191:\tlearn: 0.8794521\ttest: 0.8509317\tbest: 0.8633540 (24)\ttotal: 1.4s\tremaining: 5.87s\n",
      "192:\tlearn: 0.8794521\ttest: 0.8509317\tbest: 0.8633540 (24)\ttotal: 1.4s\tremaining: 5.85s\n",
      "193:\tlearn: 0.8808219\ttest: 0.8509317\tbest: 0.8633540 (24)\ttotal: 1.41s\tremaining: 5.85s\n",
      "194:\tlearn: 0.8808219\ttest: 0.8509317\tbest: 0.8633540 (24)\ttotal: 1.42s\tremaining: 5.84s\n",
      "195:\tlearn: 0.8794521\ttest: 0.8509317\tbest: 0.8633540 (24)\ttotal: 1.42s\tremaining: 5.83s\n",
      "196:\tlearn: 0.8794521\ttest: 0.8509317\tbest: 0.8633540 (24)\ttotal: 1.43s\tremaining: 5.83s\n",
      "197:\tlearn: 0.8794521\ttest: 0.8509317\tbest: 0.8633540 (24)\ttotal: 1.44s\tremaining: 5.82s\n",
      "198:\tlearn: 0.8794521\ttest: 0.8509317\tbest: 0.8633540 (24)\ttotal: 1.45s\tremaining: 5.82s\n",
      "199:\tlearn: 0.8794521\ttest: 0.8509317\tbest: 0.8633540 (24)\ttotal: 1.45s\tremaining: 5.81s\n",
      "200:\tlearn: 0.8794521\ttest: 0.8509317\tbest: 0.8633540 (24)\ttotal: 1.46s\tremaining: 5.79s\n",
      "201:\tlearn: 0.8808219\ttest: 0.8509317\tbest: 0.8633540 (24)\ttotal: 1.46s\tremaining: 5.77s\n",
      "202:\tlearn: 0.8821918\ttest: 0.8509317\tbest: 0.8633540 (24)\ttotal: 1.47s\tremaining: 5.78s\n"
     ]
    },
    {
     "name": "stdout",
     "output_type": "stream",
     "text": [
      "203:\tlearn: 0.8835616\ttest: 0.8509317\tbest: 0.8633540 (24)\ttotal: 1.48s\tremaining: 5.78s\n",
      "204:\tlearn: 0.8835616\ttest: 0.8509317\tbest: 0.8633540 (24)\ttotal: 1.49s\tremaining: 5.78s\n",
      "205:\tlearn: 0.8835616\ttest: 0.8509317\tbest: 0.8633540 (24)\ttotal: 1.5s\tremaining: 5.78s\n",
      "206:\tlearn: 0.8835616\ttest: 0.8509317\tbest: 0.8633540 (24)\ttotal: 1.5s\tremaining: 5.75s\n",
      "207:\tlearn: 0.8835616\ttest: 0.8509317\tbest: 0.8633540 (24)\ttotal: 1.51s\tremaining: 5.75s\n",
      "208:\tlearn: 0.8835616\ttest: 0.8509317\tbest: 0.8633540 (24)\ttotal: 1.52s\tremaining: 5.75s\n",
      "209:\tlearn: 0.8835616\ttest: 0.8509317\tbest: 0.8633540 (24)\ttotal: 1.53s\tremaining: 5.74s\n",
      "210:\tlearn: 0.8835616\ttest: 0.8509317\tbest: 0.8633540 (24)\ttotal: 1.54s\tremaining: 5.75s\n",
      "211:\tlearn: 0.8835616\ttest: 0.8509317\tbest: 0.8633540 (24)\ttotal: 1.54s\tremaining: 5.72s\n",
      "212:\tlearn: 0.8821918\ttest: 0.8509317\tbest: 0.8633540 (24)\ttotal: 1.55s\tremaining: 5.72s\n",
      "213:\tlearn: 0.8821918\ttest: 0.8509317\tbest: 0.8633540 (24)\ttotal: 1.55s\tremaining: 5.7s\n",
      "214:\tlearn: 0.8821918\ttest: 0.8509317\tbest: 0.8633540 (24)\ttotal: 1.56s\tremaining: 5.69s\n",
      "215:\tlearn: 0.8821918\ttest: 0.8509317\tbest: 0.8633540 (24)\ttotal: 1.56s\tremaining: 5.68s\n",
      "216:\tlearn: 0.8821918\ttest: 0.8509317\tbest: 0.8633540 (24)\ttotal: 1.57s\tremaining: 5.67s\n",
      "217:\tlearn: 0.8821918\ttest: 0.8509317\tbest: 0.8633540 (24)\ttotal: 1.58s\tremaining: 5.66s\n",
      "218:\tlearn: 0.8821918\ttest: 0.8509317\tbest: 0.8633540 (24)\ttotal: 1.59s\tremaining: 5.66s\n",
      "219:\tlearn: 0.8821918\ttest: 0.8509317\tbest: 0.8633540 (24)\ttotal: 1.6s\tremaining: 5.66s\n",
      "220:\tlearn: 0.8821918\ttest: 0.8509317\tbest: 0.8633540 (24)\ttotal: 1.61s\tremaining: 5.67s\n",
      "221:\tlearn: 0.8821918\ttest: 0.8447205\tbest: 0.8633540 (24)\ttotal: 1.61s\tremaining: 5.65s\n",
      "222:\tlearn: 0.8835616\ttest: 0.8447205\tbest: 0.8633540 (24)\ttotal: 1.62s\tremaining: 5.64s\n",
      "223:\tlearn: 0.8835616\ttest: 0.8447205\tbest: 0.8633540 (24)\ttotal: 1.63s\tremaining: 5.63s\n",
      "224:\tlearn: 0.8849315\ttest: 0.8447205\tbest: 0.8633540 (24)\ttotal: 1.64s\tremaining: 5.64s\n",
      "225:\tlearn: 0.8863014\ttest: 0.8447205\tbest: 0.8633540 (24)\ttotal: 1.66s\tremaining: 5.7s\n",
      "226:\tlearn: 0.8863014\ttest: 0.8447205\tbest: 0.8633540 (24)\ttotal: 1.68s\tremaining: 5.71s\n",
      "227:\tlearn: 0.8863014\ttest: 0.8447205\tbest: 0.8633540 (24)\ttotal: 1.69s\tremaining: 5.72s\n",
      "228:\tlearn: 0.8876712\ttest: 0.8447205\tbest: 0.8633540 (24)\ttotal: 1.71s\tremaining: 5.74s\n",
      "229:\tlearn: 0.8863014\ttest: 0.8447205\tbest: 0.8633540 (24)\ttotal: 1.72s\tremaining: 5.75s\n",
      "230:\tlearn: 0.8863014\ttest: 0.8447205\tbest: 0.8633540 (24)\ttotal: 1.74s\tremaining: 5.78s\n",
      "231:\tlearn: 0.8863014\ttest: 0.8447205\tbest: 0.8633540 (24)\ttotal: 1.75s\tremaining: 5.8s\n",
      "232:\tlearn: 0.8863014\ttest: 0.8447205\tbest: 0.8633540 (24)\ttotal: 1.76s\tremaining: 5.78s\n",
      "233:\tlearn: 0.8890411\ttest: 0.8447205\tbest: 0.8633540 (24)\ttotal: 1.76s\tremaining: 5.78s\n",
      "234:\tlearn: 0.8876712\ttest: 0.8447205\tbest: 0.8633540 (24)\ttotal: 1.77s\tremaining: 5.76s\n",
      "235:\tlearn: 0.8876712\ttest: 0.8447205\tbest: 0.8633540 (24)\ttotal: 1.78s\tremaining: 5.75s\n",
      "236:\tlearn: 0.8876712\ttest: 0.8447205\tbest: 0.8633540 (24)\ttotal: 1.78s\tremaining: 5.74s\n",
      "237:\tlearn: 0.8890411\ttest: 0.8447205\tbest: 0.8633540 (24)\ttotal: 1.79s\tremaining: 5.72s\n",
      "238:\tlearn: 0.8876712\ttest: 0.8447205\tbest: 0.8633540 (24)\ttotal: 1.82s\tremaining: 5.79s\n",
      "239:\tlearn: 0.8876712\ttest: 0.8447205\tbest: 0.8633540 (24)\ttotal: 1.83s\tremaining: 5.8s\n",
      "240:\tlearn: 0.8876712\ttest: 0.8447205\tbest: 0.8633540 (24)\ttotal: 1.84s\tremaining: 5.8s\n",
      "241:\tlearn: 0.8876712\ttest: 0.8447205\tbest: 0.8633540 (24)\ttotal: 1.85s\tremaining: 5.8s\n",
      "242:\tlearn: 0.8876712\ttest: 0.8447205\tbest: 0.8633540 (24)\ttotal: 1.87s\tremaining: 5.83s\n",
      "243:\tlearn: 0.8876712\ttest: 0.8447205\tbest: 0.8633540 (24)\ttotal: 1.88s\tremaining: 5.84s\n",
      "244:\tlearn: 0.8876712\ttest: 0.8447205\tbest: 0.8633540 (24)\ttotal: 1.9s\tremaining: 5.85s\n",
      "245:\tlearn: 0.8876712\ttest: 0.8447205\tbest: 0.8633540 (24)\ttotal: 1.91s\tremaining: 5.86s\n",
      "246:\tlearn: 0.8876712\ttest: 0.8447205\tbest: 0.8633540 (24)\ttotal: 1.92s\tremaining: 5.86s\n",
      "247:\tlearn: 0.8876712\ttest: 0.8447205\tbest: 0.8633540 (24)\ttotal: 1.94s\tremaining: 5.88s\n",
      "248:\tlearn: 0.8876712\ttest: 0.8447205\tbest: 0.8633540 (24)\ttotal: 1.95s\tremaining: 5.88s\n",
      "249:\tlearn: 0.8876712\ttest: 0.8447205\tbest: 0.8633540 (24)\ttotal: 1.96s\tremaining: 5.87s\n",
      "250:\tlearn: 0.8876712\ttest: 0.8447205\tbest: 0.8633540 (24)\ttotal: 1.97s\tremaining: 5.86s\n",
      "251:\tlearn: 0.8876712\ttest: 0.8447205\tbest: 0.8633540 (24)\ttotal: 1.97s\tremaining: 5.85s\n",
      "252:\tlearn: 0.8890411\ttest: 0.8447205\tbest: 0.8633540 (24)\ttotal: 1.98s\tremaining: 5.84s\n",
      "253:\tlearn: 0.8890411\ttest: 0.8447205\tbest: 0.8633540 (24)\ttotal: 1.99s\tremaining: 5.83s\n",
      "254:\tlearn: 0.8890411\ttest: 0.8447205\tbest: 0.8633540 (24)\ttotal: 1.99s\tremaining: 5.82s\n",
      "255:\tlearn: 0.8876712\ttest: 0.8447205\tbest: 0.8633540 (24)\ttotal: 2s\tremaining: 5.8s\n",
      "256:\tlearn: 0.8876712\ttest: 0.8447205\tbest: 0.8633540 (24)\ttotal: 2s\tremaining: 5.79s\n",
      "257:\tlearn: 0.8876712\ttest: 0.8447205\tbest: 0.8633540 (24)\ttotal: 2.01s\tremaining: 5.78s\n",
      "258:\tlearn: 0.8876712\ttest: 0.8447205\tbest: 0.8633540 (24)\ttotal: 2.02s\tremaining: 5.79s\n",
      "259:\tlearn: 0.8890411\ttest: 0.8447205\tbest: 0.8633540 (24)\ttotal: 2.03s\tremaining: 5.78s\n",
      "260:\tlearn: 0.8890411\ttest: 0.8447205\tbest: 0.8633540 (24)\ttotal: 2.04s\tremaining: 5.76s\n",
      "261:\tlearn: 0.8904110\ttest: 0.8447205\tbest: 0.8633540 (24)\ttotal: 2.04s\tremaining: 5.74s\n",
      "262:\tlearn: 0.8890411\ttest: 0.8447205\tbest: 0.8633540 (24)\ttotal: 2.04s\tremaining: 5.73s\n",
      "263:\tlearn: 0.8904110\ttest: 0.8447205\tbest: 0.8633540 (24)\ttotal: 2.06s\tremaining: 5.73s\n",
      "264:\tlearn: 0.8917808\ttest: 0.8447205\tbest: 0.8633540 (24)\ttotal: 2.06s\tremaining: 5.73s\n",
      "265:\tlearn: 0.8931507\ttest: 0.8447205\tbest: 0.8633540 (24)\ttotal: 2.07s\tremaining: 5.71s\n",
      "266:\tlearn: 0.8931507\ttest: 0.8447205\tbest: 0.8633540 (24)\ttotal: 2.08s\tremaining: 5.7s\n",
      "267:\tlearn: 0.8917808\ttest: 0.8447205\tbest: 0.8633540 (24)\ttotal: 2.11s\tremaining: 5.76s\n",
      "268:\tlearn: 0.8931507\ttest: 0.8447205\tbest: 0.8633540 (24)\ttotal: 2.12s\tremaining: 5.75s\n",
      "269:\tlearn: 0.8931507\ttest: 0.8447205\tbest: 0.8633540 (24)\ttotal: 2.12s\tremaining: 5.75s\n",
      "270:\tlearn: 0.8945205\ttest: 0.8447205\tbest: 0.8633540 (24)\ttotal: 2.13s\tremaining: 5.73s\n",
      "271:\tlearn: 0.8945205\ttest: 0.8447205\tbest: 0.8633540 (24)\ttotal: 2.14s\tremaining: 5.72s\n",
      "272:\tlearn: 0.8945205\ttest: 0.8447205\tbest: 0.8633540 (24)\ttotal: 2.14s\tremaining: 5.7s\n",
      "273:\tlearn: 0.8958904\ttest: 0.8447205\tbest: 0.8633540 (24)\ttotal: 2.15s\tremaining: 5.7s\n",
      "274:\tlearn: 0.8958904\ttest: 0.8447205\tbest: 0.8633540 (24)\ttotal: 2.15s\tremaining: 5.67s\n",
      "275:\tlearn: 0.8958904\ttest: 0.8447205\tbest: 0.8633540 (24)\ttotal: 2.16s\tremaining: 5.66s\n",
      "276:\tlearn: 0.8958904\ttest: 0.8447205\tbest: 0.8633540 (24)\ttotal: 2.16s\tremaining: 5.65s\n",
      "277:\tlearn: 0.8958904\ttest: 0.8447205\tbest: 0.8633540 (24)\ttotal: 2.17s\tremaining: 5.63s\n",
      "278:\tlearn: 0.8958904\ttest: 0.8447205\tbest: 0.8633540 (24)\ttotal: 2.18s\tremaining: 5.63s\n",
      "279:\tlearn: 0.8958904\ttest: 0.8447205\tbest: 0.8633540 (24)\ttotal: 2.18s\tremaining: 5.62s\n",
      "280:\tlearn: 0.8972603\ttest: 0.8447205\tbest: 0.8633540 (24)\ttotal: 2.19s\tremaining: 5.6s\n",
      "281:\tlearn: 0.8986301\ttest: 0.8447205\tbest: 0.8633540 (24)\ttotal: 2.2s\tremaining: 5.6s\n",
      "282:\tlearn: 0.8986301\ttest: 0.8447205\tbest: 0.8633540 (24)\ttotal: 2.21s\tremaining: 5.59s\n",
      "283:\tlearn: 0.8972603\ttest: 0.8447205\tbest: 0.8633540 (24)\ttotal: 2.21s\tremaining: 5.58s\n",
      "284:\tlearn: 0.8972603\ttest: 0.8447205\tbest: 0.8633540 (24)\ttotal: 2.22s\tremaining: 5.58s\n",
      "285:\tlearn: 0.8972603\ttest: 0.8447205\tbest: 0.8633540 (24)\ttotal: 2.23s\tremaining: 5.57s\n",
      "286:\tlearn: 0.8986301\ttest: 0.8447205\tbest: 0.8633540 (24)\ttotal: 2.24s\tremaining: 5.56s\n",
      "287:\tlearn: 0.8986301\ttest: 0.8447205\tbest: 0.8633540 (24)\ttotal: 2.25s\tremaining: 5.56s\n",
      "288:\tlearn: 0.8986301\ttest: 0.8447205\tbest: 0.8633540 (24)\ttotal: 2.25s\tremaining: 5.55s\n",
      "289:\tlearn: 0.8986301\ttest: 0.8447205\tbest: 0.8633540 (24)\ttotal: 2.26s\tremaining: 5.54s\n",
      "290:\tlearn: 0.8986301\ttest: 0.8447205\tbest: 0.8633540 (24)\ttotal: 2.27s\tremaining: 5.54s\n",
      "291:\tlearn: 0.8986301\ttest: 0.8447205\tbest: 0.8633540 (24)\ttotal: 2.27s\tremaining: 5.52s\n",
      "292:\tlearn: 0.8986301\ttest: 0.8447205\tbest: 0.8633540 (24)\ttotal: 2.28s\tremaining: 5.5s\n",
      "293:\tlearn: 0.8986301\ttest: 0.8447205\tbest: 0.8633540 (24)\ttotal: 2.28s\tremaining: 5.48s\n",
      "294:\tlearn: 0.8986301\ttest: 0.8447205\tbest: 0.8633540 (24)\ttotal: 2.29s\tremaining: 5.47s\n",
      "295:\tlearn: 0.8986301\ttest: 0.8447205\tbest: 0.8633540 (24)\ttotal: 2.29s\tremaining: 5.45s\n",
      "296:\tlearn: 0.8986301\ttest: 0.8447205\tbest: 0.8633540 (24)\ttotal: 2.3s\tremaining: 5.44s\n",
      "297:\tlearn: 0.8986301\ttest: 0.8447205\tbest: 0.8633540 (24)\ttotal: 2.31s\tremaining: 5.43s\n",
      "298:\tlearn: 0.8986301\ttest: 0.8447205\tbest: 0.8633540 (24)\ttotal: 2.31s\tremaining: 5.43s\n",
      "299:\tlearn: 0.8986301\ttest: 0.8447205\tbest: 0.8633540 (24)\ttotal: 2.32s\tremaining: 5.41s\n",
      "300:\tlearn: 0.8986301\ttest: 0.8447205\tbest: 0.8633540 (24)\ttotal: 2.33s\tremaining: 5.41s\n",
      "301:\tlearn: 0.8986301\ttest: 0.8447205\tbest: 0.8633540 (24)\ttotal: 2.34s\tremaining: 5.4s\n",
      "302:\tlearn: 0.8986301\ttest: 0.8447205\tbest: 0.8633540 (24)\ttotal: 2.35s\tremaining: 5.39s\n",
      "303:\tlearn: 0.8986301\ttest: 0.8447205\tbest: 0.8633540 (24)\ttotal: 2.35s\tremaining: 5.38s\n",
      "304:\tlearn: 0.8986301\ttest: 0.8447205\tbest: 0.8633540 (24)\ttotal: 2.36s\tremaining: 5.38s\n",
      "305:\tlearn: 0.8986301\ttest: 0.8447205\tbest: 0.8633540 (24)\ttotal: 2.36s\tremaining: 5.36s\n",
      "306:\tlearn: 0.8986301\ttest: 0.8447205\tbest: 0.8633540 (24)\ttotal: 2.37s\tremaining: 5.35s\n",
      "307:\tlearn: 0.9000000\ttest: 0.8447205\tbest: 0.8633540 (24)\ttotal: 2.38s\tremaining: 5.35s\n",
      "308:\tlearn: 0.9013699\ttest: 0.8447205\tbest: 0.8633540 (24)\ttotal: 2.39s\tremaining: 5.34s\n",
      "309:\tlearn: 0.9013699\ttest: 0.8447205\tbest: 0.8633540 (24)\ttotal: 2.4s\tremaining: 5.33s\n",
      "310:\tlearn: 0.9013699\ttest: 0.8447205\tbest: 0.8633540 (24)\ttotal: 2.41s\tremaining: 5.33s\n",
      "311:\tlearn: 0.9013699\ttest: 0.8447205\tbest: 0.8633540 (24)\ttotal: 2.41s\tremaining: 5.32s\n",
      "312:\tlearn: 0.9013699\ttest: 0.8447205\tbest: 0.8633540 (24)\ttotal: 2.42s\tremaining: 5.32s\n",
      "313:\tlearn: 0.9000000\ttest: 0.8447205\tbest: 0.8633540 (24)\ttotal: 2.43s\tremaining: 5.3s\n"
     ]
    },
    {
     "name": "stdout",
     "output_type": "stream",
     "text": [
      "314:\tlearn: 0.9000000\ttest: 0.8447205\tbest: 0.8633540 (24)\ttotal: 2.44s\tremaining: 5.3s\n",
      "315:\tlearn: 0.9041096\ttest: 0.8447205\tbest: 0.8633540 (24)\ttotal: 2.45s\tremaining: 5.29s\n",
      "316:\tlearn: 0.9041096\ttest: 0.8447205\tbest: 0.8633540 (24)\ttotal: 2.46s\tremaining: 5.29s\n",
      "317:\tlearn: 0.9027397\ttest: 0.8447205\tbest: 0.8633540 (24)\ttotal: 2.47s\tremaining: 5.29s\n",
      "318:\tlearn: 0.9041096\ttest: 0.8447205\tbest: 0.8633540 (24)\ttotal: 2.48s\tremaining: 5.28s\n",
      "319:\tlearn: 0.9041096\ttest: 0.8447205\tbest: 0.8633540 (24)\ttotal: 2.5s\tremaining: 5.32s\n",
      "320:\tlearn: 0.9041096\ttest: 0.8447205\tbest: 0.8633540 (24)\ttotal: 2.52s\tremaining: 5.32s\n",
      "321:\tlearn: 0.9054795\ttest: 0.8447205\tbest: 0.8633540 (24)\ttotal: 2.52s\tremaining: 5.31s\n",
      "322:\tlearn: 0.9054795\ttest: 0.8447205\tbest: 0.8633540 (24)\ttotal: 2.54s\tremaining: 5.33s\n",
      "323:\tlearn: 0.9054795\ttest: 0.8447205\tbest: 0.8633540 (24)\ttotal: 2.55s\tremaining: 5.32s\n",
      "324:\tlearn: 0.9054795\ttest: 0.8447205\tbest: 0.8633540 (24)\ttotal: 2.55s\tremaining: 5.3s\n",
      "325:\tlearn: 0.9054795\ttest: 0.8447205\tbest: 0.8633540 (24)\ttotal: 2.55s\tremaining: 5.28s\n",
      "326:\tlearn: 0.9054795\ttest: 0.8447205\tbest: 0.8633540 (24)\ttotal: 2.56s\tremaining: 5.27s\n",
      "327:\tlearn: 0.9068493\ttest: 0.8447205\tbest: 0.8633540 (24)\ttotal: 2.57s\tremaining: 5.26s\n",
      "328:\tlearn: 0.9082192\ttest: 0.8447205\tbest: 0.8633540 (24)\ttotal: 2.57s\tremaining: 5.25s\n",
      "329:\tlearn: 0.9082192\ttest: 0.8447205\tbest: 0.8633540 (24)\ttotal: 2.58s\tremaining: 5.24s\n",
      "330:\tlearn: 0.9082192\ttest: 0.8447205\tbest: 0.8633540 (24)\ttotal: 2.59s\tremaining: 5.23s\n",
      "331:\tlearn: 0.9068493\ttest: 0.8447205\tbest: 0.8633540 (24)\ttotal: 2.6s\tremaining: 5.22s\n",
      "332:\tlearn: 0.9054795\ttest: 0.8447205\tbest: 0.8633540 (24)\ttotal: 2.6s\tremaining: 5.22s\n",
      "333:\tlearn: 0.9054795\ttest: 0.8447205\tbest: 0.8633540 (24)\ttotal: 2.61s\tremaining: 5.21s\n",
      "334:\tlearn: 0.9054795\ttest: 0.8447205\tbest: 0.8633540 (24)\ttotal: 2.62s\tremaining: 5.2s\n",
      "335:\tlearn: 0.9068493\ttest: 0.8447205\tbest: 0.8633540 (24)\ttotal: 2.65s\tremaining: 5.23s\n",
      "336:\tlearn: 0.9068493\ttest: 0.8447205\tbest: 0.8633540 (24)\ttotal: 2.66s\tremaining: 5.23s\n",
      "337:\tlearn: 0.9068493\ttest: 0.8447205\tbest: 0.8633540 (24)\ttotal: 2.67s\tremaining: 5.24s\n",
      "338:\tlearn: 0.9068493\ttest: 0.8447205\tbest: 0.8633540 (24)\ttotal: 2.69s\tremaining: 5.24s\n",
      "339:\tlearn: 0.9068493\ttest: 0.8447205\tbest: 0.8633540 (24)\ttotal: 2.7s\tremaining: 5.24s\n",
      "340:\tlearn: 0.9068493\ttest: 0.8447205\tbest: 0.8633540 (24)\ttotal: 2.7s\tremaining: 5.22s\n",
      "341:\tlearn: 0.9095890\ttest: 0.8447205\tbest: 0.8633540 (24)\ttotal: 2.72s\tremaining: 5.23s\n",
      "342:\tlearn: 0.9109589\ttest: 0.8447205\tbest: 0.8633540 (24)\ttotal: 2.73s\tremaining: 5.23s\n",
      "343:\tlearn: 0.9109589\ttest: 0.8447205\tbest: 0.8633540 (24)\ttotal: 2.74s\tremaining: 5.23s\n",
      "344:\tlearn: 0.9109589\ttest: 0.8447205\tbest: 0.8633540 (24)\ttotal: 2.75s\tremaining: 5.23s\n",
      "345:\tlearn: 0.9095890\ttest: 0.8447205\tbest: 0.8633540 (24)\ttotal: 2.77s\tremaining: 5.23s\n",
      "346:\tlearn: 0.9095890\ttest: 0.8447205\tbest: 0.8633540 (24)\ttotal: 2.78s\tremaining: 5.24s\n",
      "347:\tlearn: 0.9095890\ttest: 0.8447205\tbest: 0.8633540 (24)\ttotal: 2.8s\tremaining: 5.24s\n",
      "348:\tlearn: 0.9109589\ttest: 0.8447205\tbest: 0.8633540 (24)\ttotal: 2.82s\tremaining: 5.25s\n",
      "349:\tlearn: 0.9123288\ttest: 0.8447205\tbest: 0.8633540 (24)\ttotal: 2.83s\tremaining: 5.25s\n",
      "350:\tlearn: 0.9123288\ttest: 0.8447205\tbest: 0.8633540 (24)\ttotal: 2.85s\tremaining: 5.26s\n",
      "351:\tlearn: 0.9123288\ttest: 0.8447205\tbest: 0.8633540 (24)\ttotal: 2.86s\tremaining: 5.26s\n",
      "352:\tlearn: 0.9123288\ttest: 0.8447205\tbest: 0.8633540 (24)\ttotal: 2.88s\tremaining: 5.28s\n",
      "353:\tlearn: 0.9123288\ttest: 0.8447205\tbest: 0.8633540 (24)\ttotal: 2.89s\tremaining: 5.27s\n",
      "354:\tlearn: 0.9123288\ttest: 0.8447205\tbest: 0.8633540 (24)\ttotal: 2.9s\tremaining: 5.28s\n",
      "355:\tlearn: 0.9123288\ttest: 0.8447205\tbest: 0.8633540 (24)\ttotal: 2.92s\tremaining: 5.29s\n",
      "356:\tlearn: 0.9123288\ttest: 0.8447205\tbest: 0.8633540 (24)\ttotal: 2.94s\tremaining: 5.29s\n",
      "357:\tlearn: 0.9123288\ttest: 0.8447205\tbest: 0.8633540 (24)\ttotal: 2.96s\tremaining: 5.3s\n",
      "358:\tlearn: 0.9123288\ttest: 0.8447205\tbest: 0.8633540 (24)\ttotal: 2.97s\tremaining: 5.3s\n",
      "359:\tlearn: 0.9123288\ttest: 0.8447205\tbest: 0.8633540 (24)\ttotal: 3s\tremaining: 5.34s\n",
      "360:\tlearn: 0.9123288\ttest: 0.8447205\tbest: 0.8633540 (24)\ttotal: 3.02s\tremaining: 5.34s\n",
      "361:\tlearn: 0.9123288\ttest: 0.8447205\tbest: 0.8633540 (24)\ttotal: 3.03s\tremaining: 5.34s\n",
      "362:\tlearn: 0.9123288\ttest: 0.8447205\tbest: 0.8633540 (24)\ttotal: 3.04s\tremaining: 5.33s\n",
      "363:\tlearn: 0.9136986\ttest: 0.8447205\tbest: 0.8633540 (24)\ttotal: 3.05s\tremaining: 5.33s\n",
      "364:\tlearn: 0.9136986\ttest: 0.8447205\tbest: 0.8633540 (24)\ttotal: 3.06s\tremaining: 5.32s\n",
      "365:\tlearn: 0.9136986\ttest: 0.8447205\tbest: 0.8633540 (24)\ttotal: 3.06s\tremaining: 5.31s\n",
      "366:\tlearn: 0.9136986\ttest: 0.8447205\tbest: 0.8633540 (24)\ttotal: 3.07s\tremaining: 5.29s\n",
      "367:\tlearn: 0.9136986\ttest: 0.8447205\tbest: 0.8633540 (24)\ttotal: 3.08s\tremaining: 5.29s\n",
      "368:\tlearn: 0.9123288\ttest: 0.8447205\tbest: 0.8633540 (24)\ttotal: 3.09s\tremaining: 5.28s\n",
      "369:\tlearn: 0.9136986\ttest: 0.8447205\tbest: 0.8633540 (24)\ttotal: 3.09s\tremaining: 5.27s\n",
      "370:\tlearn: 0.9136986\ttest: 0.8447205\tbest: 0.8633540 (24)\ttotal: 3.1s\tremaining: 5.25s\n",
      "371:\tlearn: 0.9150685\ttest: 0.8447205\tbest: 0.8633540 (24)\ttotal: 3.13s\tremaining: 5.28s\n",
      "372:\tlearn: 0.9150685\ttest: 0.8447205\tbest: 0.8633540 (24)\ttotal: 3.13s\tremaining: 5.27s\n",
      "373:\tlearn: 0.9164384\ttest: 0.8447205\tbest: 0.8633540 (24)\ttotal: 3.14s\tremaining: 5.26s\n",
      "374:\tlearn: 0.9164384\ttest: 0.8447205\tbest: 0.8633540 (24)\ttotal: 3.15s\tremaining: 5.25s\n",
      "375:\tlearn: 0.9164384\ttest: 0.8447205\tbest: 0.8633540 (24)\ttotal: 3.16s\tremaining: 5.24s\n",
      "376:\tlearn: 0.9164384\ttest: 0.8447205\tbest: 0.8633540 (24)\ttotal: 3.17s\tremaining: 5.23s\n",
      "377:\tlearn: 0.9164384\ttest: 0.8447205\tbest: 0.8633540 (24)\ttotal: 3.17s\tremaining: 5.22s\n",
      "378:\tlearn: 0.9164384\ttest: 0.8447205\tbest: 0.8633540 (24)\ttotal: 3.18s\tremaining: 5.22s\n",
      "379:\tlearn: 0.9164384\ttest: 0.8447205\tbest: 0.8633540 (24)\ttotal: 3.19s\tremaining: 5.21s\n",
      "380:\tlearn: 0.9164384\ttest: 0.8447205\tbest: 0.8633540 (24)\ttotal: 3.2s\tremaining: 5.21s\n",
      "381:\tlearn: 0.9164384\ttest: 0.8447205\tbest: 0.8633540 (24)\ttotal: 3.21s\tremaining: 5.2s\n",
      "382:\tlearn: 0.9164384\ttest: 0.8447205\tbest: 0.8633540 (24)\ttotal: 3.22s\tremaining: 5.18s\n",
      "383:\tlearn: 0.9164384\ttest: 0.8447205\tbest: 0.8633540 (24)\ttotal: 3.23s\tremaining: 5.18s\n",
      "384:\tlearn: 0.9178082\ttest: 0.8447205\tbest: 0.8633540 (24)\ttotal: 3.23s\tremaining: 5.16s\n",
      "385:\tlearn: 0.9178082\ttest: 0.8447205\tbest: 0.8633540 (24)\ttotal: 3.24s\tremaining: 5.15s\n",
      "386:\tlearn: 0.9178082\ttest: 0.8447205\tbest: 0.8633540 (24)\ttotal: 3.24s\tremaining: 5.14s\n",
      "387:\tlearn: 0.9178082\ttest: 0.8447205\tbest: 0.8633540 (24)\ttotal: 3.25s\tremaining: 5.13s\n",
      "388:\tlearn: 0.9178082\ttest: 0.8447205\tbest: 0.8633540 (24)\ttotal: 3.26s\tremaining: 5.12s\n",
      "389:\tlearn: 0.9191781\ttest: 0.8447205\tbest: 0.8633540 (24)\ttotal: 3.27s\tremaining: 5.11s\n",
      "390:\tlearn: 0.9205479\ttest: 0.8447205\tbest: 0.8633540 (24)\ttotal: 3.28s\tremaining: 5.1s\n",
      "391:\tlearn: 0.9205479\ttest: 0.8447205\tbest: 0.8633540 (24)\ttotal: 3.29s\tremaining: 5.1s\n",
      "392:\tlearn: 0.9205479\ttest: 0.8447205\tbest: 0.8633540 (24)\ttotal: 3.29s\tremaining: 5.09s\n",
      "393:\tlearn: 0.9205479\ttest: 0.8447205\tbest: 0.8633540 (24)\ttotal: 3.3s\tremaining: 5.08s\n",
      "394:\tlearn: 0.9205479\ttest: 0.8447205\tbest: 0.8633540 (24)\ttotal: 3.31s\tremaining: 5.07s\n",
      "395:\tlearn: 0.9205479\ttest: 0.8447205\tbest: 0.8633540 (24)\ttotal: 3.32s\tremaining: 5.07s\n",
      "396:\tlearn: 0.9205479\ttest: 0.8447205\tbest: 0.8633540 (24)\ttotal: 3.33s\tremaining: 5.06s\n",
      "397:\tlearn: 0.9205479\ttest: 0.8447205\tbest: 0.8633540 (24)\ttotal: 3.34s\tremaining: 5.05s\n",
      "398:\tlearn: 0.9205479\ttest: 0.8447205\tbest: 0.8633540 (24)\ttotal: 3.35s\tremaining: 5.04s\n",
      "399:\tlearn: 0.9205479\ttest: 0.8447205\tbest: 0.8633540 (24)\ttotal: 3.35s\tremaining: 5.03s\n",
      "400:\tlearn: 0.9232877\ttest: 0.8447205\tbest: 0.8633540 (24)\ttotal: 3.36s\tremaining: 5.02s\n",
      "401:\tlearn: 0.9232877\ttest: 0.8447205\tbest: 0.8633540 (24)\ttotal: 3.37s\tremaining: 5.01s\n",
      "402:\tlearn: 0.9232877\ttest: 0.8447205\tbest: 0.8633540 (24)\ttotal: 3.38s\tremaining: 5.01s\n",
      "403:\tlearn: 0.9232877\ttest: 0.8447205\tbest: 0.8633540 (24)\ttotal: 3.39s\tremaining: 5s\n",
      "404:\tlearn: 0.9232877\ttest: 0.8447205\tbest: 0.8633540 (24)\ttotal: 3.4s\tremaining: 5s\n",
      "405:\tlearn: 0.9232877\ttest: 0.8447205\tbest: 0.8633540 (24)\ttotal: 3.41s\tremaining: 4.98s\n",
      "406:\tlearn: 0.9232877\ttest: 0.8447205\tbest: 0.8633540 (24)\ttotal: 3.41s\tremaining: 4.97s\n",
      "407:\tlearn: 0.9219178\ttest: 0.8447205\tbest: 0.8633540 (24)\ttotal: 3.42s\tremaining: 4.96s\n",
      "408:\tlearn: 0.9219178\ttest: 0.8447205\tbest: 0.8633540 (24)\ttotal: 3.43s\tremaining: 4.95s\n",
      "409:\tlearn: 0.9219178\ttest: 0.8447205\tbest: 0.8633540 (24)\ttotal: 3.44s\tremaining: 4.94s\n",
      "410:\tlearn: 0.9246575\ttest: 0.8447205\tbest: 0.8633540 (24)\ttotal: 3.46s\tremaining: 4.96s\n",
      "411:\tlearn: 0.9246575\ttest: 0.8385093\tbest: 0.8633540 (24)\ttotal: 3.47s\tremaining: 4.95s\n",
      "412:\tlearn: 0.9260274\ttest: 0.8447205\tbest: 0.8633540 (24)\ttotal: 3.48s\tremaining: 4.94s\n",
      "413:\tlearn: 0.9260274\ttest: 0.8447205\tbest: 0.8633540 (24)\ttotal: 3.49s\tremaining: 4.93s\n",
      "414:\tlearn: 0.9260274\ttest: 0.8447205\tbest: 0.8633540 (24)\ttotal: 3.5s\tremaining: 4.93s\n",
      "415:\tlearn: 0.9260274\ttest: 0.8447205\tbest: 0.8633540 (24)\ttotal: 3.5s\tremaining: 4.92s\n",
      "416:\tlearn: 0.9246575\ttest: 0.8385093\tbest: 0.8633540 (24)\ttotal: 3.51s\tremaining: 4.91s\n",
      "417:\tlearn: 0.9246575\ttest: 0.8385093\tbest: 0.8633540 (24)\ttotal: 3.52s\tremaining: 4.9s\n",
      "418:\tlearn: 0.9260274\ttest: 0.8385093\tbest: 0.8633540 (24)\ttotal: 3.53s\tremaining: 4.89s\n",
      "419:\tlearn: 0.9260274\ttest: 0.8385093\tbest: 0.8633540 (24)\ttotal: 3.54s\tremaining: 4.89s\n",
      "420:\tlearn: 0.9260274\ttest: 0.8385093\tbest: 0.8633540 (24)\ttotal: 3.54s\tremaining: 4.88s\n",
      "421:\tlearn: 0.9260274\ttest: 0.8385093\tbest: 0.8633540 (24)\ttotal: 3.55s\tremaining: 4.87s\n",
      "422:\tlearn: 0.9260274\ttest: 0.8385093\tbest: 0.8633540 (24)\ttotal: 3.56s\tremaining: 4.86s\n",
      "423:\tlearn: 0.9260274\ttest: 0.8385093\tbest: 0.8633540 (24)\ttotal: 3.57s\tremaining: 4.84s\n",
      "424:\tlearn: 0.9260274\ttest: 0.8385093\tbest: 0.8633540 (24)\ttotal: 3.58s\tremaining: 4.84s\n",
      "425:\tlearn: 0.9260274\ttest: 0.8385093\tbest: 0.8633540 (24)\ttotal: 3.58s\tremaining: 4.83s\n"
     ]
    },
    {
     "name": "stdout",
     "output_type": "stream",
     "text": [
      "426:\tlearn: 0.9260274\ttest: 0.8385093\tbest: 0.8633540 (24)\ttotal: 3.59s\tremaining: 4.82s\n",
      "427:\tlearn: 0.9260274\ttest: 0.8385093\tbest: 0.8633540 (24)\ttotal: 3.6s\tremaining: 4.81s\n",
      "428:\tlearn: 0.9260274\ttest: 0.8385093\tbest: 0.8633540 (24)\ttotal: 3.61s\tremaining: 4.8s\n",
      "429:\tlearn: 0.9260274\ttest: 0.8385093\tbest: 0.8633540 (24)\ttotal: 3.62s\tremaining: 4.8s\n",
      "430:\tlearn: 0.9260274\ttest: 0.8385093\tbest: 0.8633540 (24)\ttotal: 3.63s\tremaining: 4.79s\n",
      "431:\tlearn: 0.9260274\ttest: 0.8385093\tbest: 0.8633540 (24)\ttotal: 3.64s\tremaining: 4.78s\n",
      "432:\tlearn: 0.9260274\ttest: 0.8385093\tbest: 0.8633540 (24)\ttotal: 3.65s\tremaining: 4.78s\n",
      "433:\tlearn: 0.9260274\ttest: 0.8385093\tbest: 0.8633540 (24)\ttotal: 3.65s\tremaining: 4.76s\n",
      "434:\tlearn: 0.9260274\ttest: 0.8385093\tbest: 0.8633540 (24)\ttotal: 3.66s\tremaining: 4.75s\n",
      "435:\tlearn: 0.9260274\ttest: 0.8385093\tbest: 0.8633540 (24)\ttotal: 3.67s\tremaining: 4.75s\n",
      "436:\tlearn: 0.9260274\ttest: 0.8385093\tbest: 0.8633540 (24)\ttotal: 3.68s\tremaining: 4.74s\n",
      "437:\tlearn: 0.9260274\ttest: 0.8385093\tbest: 0.8633540 (24)\ttotal: 3.69s\tremaining: 4.73s\n",
      "438:\tlearn: 0.9260274\ttest: 0.8385093\tbest: 0.8633540 (24)\ttotal: 3.69s\tremaining: 4.72s\n",
      "439:\tlearn: 0.9273973\ttest: 0.8385093\tbest: 0.8633540 (24)\ttotal: 3.7s\tremaining: 4.71s\n",
      "440:\tlearn: 0.9301370\ttest: 0.8385093\tbest: 0.8633540 (24)\ttotal: 3.71s\tremaining: 4.7s\n",
      "441:\tlearn: 0.9301370\ttest: 0.8385093\tbest: 0.8633540 (24)\ttotal: 3.71s\tremaining: 4.68s\n",
      "442:\tlearn: 0.9301370\ttest: 0.8385093\tbest: 0.8633540 (24)\ttotal: 3.72s\tremaining: 4.68s\n",
      "443:\tlearn: 0.9301370\ttest: 0.8385093\tbest: 0.8633540 (24)\ttotal: 3.75s\tremaining: 4.7s\n",
      "444:\tlearn: 0.9301370\ttest: 0.8385093\tbest: 0.8633540 (24)\ttotal: 3.76s\tremaining: 4.69s\n",
      "445:\tlearn: 0.9287671\ttest: 0.8385093\tbest: 0.8633540 (24)\ttotal: 3.78s\tremaining: 4.69s\n",
      "446:\tlearn: 0.9287671\ttest: 0.8385093\tbest: 0.8633540 (24)\ttotal: 3.79s\tremaining: 4.69s\n",
      "447:\tlearn: 0.9287671\ttest: 0.8385093\tbest: 0.8633540 (24)\ttotal: 3.82s\tremaining: 4.7s\n",
      "448:\tlearn: 0.9287671\ttest: 0.8385093\tbest: 0.8633540 (24)\ttotal: 3.83s\tremaining: 4.7s\n",
      "449:\tlearn: 0.9287671\ttest: 0.8385093\tbest: 0.8633540 (24)\ttotal: 3.83s\tremaining: 4.69s\n",
      "450:\tlearn: 0.9287671\ttest: 0.8385093\tbest: 0.8633540 (24)\ttotal: 3.85s\tremaining: 4.68s\n",
      "451:\tlearn: 0.9287671\ttest: 0.8385093\tbest: 0.8633540 (24)\ttotal: 3.85s\tremaining: 4.67s\n",
      "452:\tlearn: 0.9287671\ttest: 0.8385093\tbest: 0.8633540 (24)\ttotal: 3.86s\tremaining: 4.66s\n",
      "453:\tlearn: 0.9287671\ttest: 0.8385093\tbest: 0.8633540 (24)\ttotal: 3.87s\tremaining: 4.65s\n",
      "454:\tlearn: 0.9301370\ttest: 0.8385093\tbest: 0.8633540 (24)\ttotal: 3.87s\tremaining: 4.64s\n",
      "455:\tlearn: 0.9301370\ttest: 0.8385093\tbest: 0.8633540 (24)\ttotal: 3.88s\tremaining: 4.63s\n",
      "456:\tlearn: 0.9301370\ttest: 0.8385093\tbest: 0.8633540 (24)\ttotal: 3.88s\tremaining: 4.62s\n",
      "457:\tlearn: 0.9301370\ttest: 0.8385093\tbest: 0.8633540 (24)\ttotal: 3.89s\tremaining: 4.61s\n",
      "458:\tlearn: 0.9301370\ttest: 0.8385093\tbest: 0.8633540 (24)\ttotal: 3.9s\tremaining: 4.59s\n",
      "459:\tlearn: 0.9301370\ttest: 0.8385093\tbest: 0.8633540 (24)\ttotal: 3.9s\tremaining: 4.58s\n",
      "460:\tlearn: 0.9301370\ttest: 0.8385093\tbest: 0.8633540 (24)\ttotal: 3.91s\tremaining: 4.57s\n",
      "461:\tlearn: 0.9328767\ttest: 0.8385093\tbest: 0.8633540 (24)\ttotal: 3.92s\tremaining: 4.56s\n",
      "462:\tlearn: 0.9315068\ttest: 0.8385093\tbest: 0.8633540 (24)\ttotal: 3.92s\tremaining: 4.55s\n",
      "463:\tlearn: 0.9315068\ttest: 0.8385093\tbest: 0.8633540 (24)\ttotal: 3.94s\tremaining: 4.55s\n",
      "464:\tlearn: 0.9315068\ttest: 0.8385093\tbest: 0.8633540 (24)\ttotal: 3.94s\tremaining: 4.53s\n",
      "465:\tlearn: 0.9315068\ttest: 0.8385093\tbest: 0.8633540 (24)\ttotal: 3.95s\tremaining: 4.52s\n",
      "466:\tlearn: 0.9315068\ttest: 0.8385093\tbest: 0.8633540 (24)\ttotal: 3.95s\tremaining: 4.51s\n",
      "467:\tlearn: 0.9315068\ttest: 0.8385093\tbest: 0.8633540 (24)\ttotal: 3.96s\tremaining: 4.5s\n",
      "468:\tlearn: 0.9315068\ttest: 0.8385093\tbest: 0.8633540 (24)\ttotal: 3.97s\tremaining: 4.5s\n",
      "469:\tlearn: 0.9315068\ttest: 0.8385093\tbest: 0.8633540 (24)\ttotal: 3.98s\tremaining: 4.48s\n",
      "470:\tlearn: 0.9315068\ttest: 0.8385093\tbest: 0.8633540 (24)\ttotal: 3.98s\tremaining: 4.47s\n",
      "471:\tlearn: 0.9328767\ttest: 0.8385093\tbest: 0.8633540 (24)\ttotal: 3.99s\tremaining: 4.46s\n",
      "472:\tlearn: 0.9328767\ttest: 0.8385093\tbest: 0.8633540 (24)\ttotal: 3.99s\tremaining: 4.45s\n",
      "473:\tlearn: 0.9328767\ttest: 0.8385093\tbest: 0.8633540 (24)\ttotal: 4s\tremaining: 4.44s\n",
      "474:\tlearn: 0.9328767\ttest: 0.8385093\tbest: 0.8633540 (24)\ttotal: 4.01s\tremaining: 4.43s\n",
      "475:\tlearn: 0.9328767\ttest: 0.8385093\tbest: 0.8633540 (24)\ttotal: 4.02s\tremaining: 4.42s\n",
      "476:\tlearn: 0.9328767\ttest: 0.8385093\tbest: 0.8633540 (24)\ttotal: 4.03s\tremaining: 4.42s\n",
      "477:\tlearn: 0.9328767\ttest: 0.8385093\tbest: 0.8633540 (24)\ttotal: 4.04s\tremaining: 4.41s\n",
      "478:\tlearn: 0.9328767\ttest: 0.8385093\tbest: 0.8633540 (24)\ttotal: 4.05s\tremaining: 4.4s\n",
      "479:\tlearn: 0.9328767\ttest: 0.8385093\tbest: 0.8633540 (24)\ttotal: 4.06s\tremaining: 4.39s\n",
      "480:\tlearn: 0.9328767\ttest: 0.8385093\tbest: 0.8633540 (24)\ttotal: 4.06s\tremaining: 4.38s\n",
      "481:\tlearn: 0.9328767\ttest: 0.8385093\tbest: 0.8633540 (24)\ttotal: 4.07s\tremaining: 4.38s\n",
      "482:\tlearn: 0.9342466\ttest: 0.8385093\tbest: 0.8633540 (24)\ttotal: 4.08s\tremaining: 4.36s\n",
      "483:\tlearn: 0.9342466\ttest: 0.8385093\tbest: 0.8633540 (24)\ttotal: 4.09s\tremaining: 4.36s\n",
      "484:\tlearn: 0.9342466\ttest: 0.8385093\tbest: 0.8633540 (24)\ttotal: 4.1s\tremaining: 4.35s\n",
      "485:\tlearn: 0.9356164\ttest: 0.8385093\tbest: 0.8633540 (24)\ttotal: 4.11s\tremaining: 4.34s\n",
      "486:\tlearn: 0.9369863\ttest: 0.8385093\tbest: 0.8633540 (24)\ttotal: 4.12s\tremaining: 4.34s\n",
      "487:\tlearn: 0.9369863\ttest: 0.8385093\tbest: 0.8633540 (24)\ttotal: 4.13s\tremaining: 4.33s\n",
      "488:\tlearn: 0.9369863\ttest: 0.8385093\tbest: 0.8633540 (24)\ttotal: 4.14s\tremaining: 4.33s\n",
      "489:\tlearn: 0.9369863\ttest: 0.8385093\tbest: 0.8633540 (24)\ttotal: 4.15s\tremaining: 4.32s\n",
      "490:\tlearn: 0.9369863\ttest: 0.8385093\tbest: 0.8633540 (24)\ttotal: 4.15s\tremaining: 4.31s\n",
      "491:\tlearn: 0.9369863\ttest: 0.8385093\tbest: 0.8633540 (24)\ttotal: 4.16s\tremaining: 4.3s\n",
      "492:\tlearn: 0.9369863\ttest: 0.8385093\tbest: 0.8633540 (24)\ttotal: 4.17s\tremaining: 4.29s\n",
      "493:\tlearn: 0.9369863\ttest: 0.8385093\tbest: 0.8633540 (24)\ttotal: 4.18s\tremaining: 4.28s\n",
      "494:\tlearn: 0.9369863\ttest: 0.8385093\tbest: 0.8633540 (24)\ttotal: 4.19s\tremaining: 4.27s\n",
      "495:\tlearn: 0.9369863\ttest: 0.8385093\tbest: 0.8633540 (24)\ttotal: 4.19s\tremaining: 4.26s\n",
      "496:\tlearn: 0.9369863\ttest: 0.8385093\tbest: 0.8633540 (24)\ttotal: 4.2s\tremaining: 4.25s\n",
      "497:\tlearn: 0.9369863\ttest: 0.8385093\tbest: 0.8633540 (24)\ttotal: 4.2s\tremaining: 4.24s\n",
      "498:\tlearn: 0.9369863\ttest: 0.8385093\tbest: 0.8633540 (24)\ttotal: 4.21s\tremaining: 4.22s\n",
      "499:\tlearn: 0.9369863\ttest: 0.8385093\tbest: 0.8633540 (24)\ttotal: 4.21s\tremaining: 4.21s\n",
      "500:\tlearn: 0.9369863\ttest: 0.8385093\tbest: 0.8633540 (24)\ttotal: 4.22s\tremaining: 4.21s\n",
      "501:\tlearn: 0.9369863\ttest: 0.8385093\tbest: 0.8633540 (24)\ttotal: 4.23s\tremaining: 4.2s\n",
      "502:\tlearn: 0.9369863\ttest: 0.8385093\tbest: 0.8633540 (24)\ttotal: 4.24s\tremaining: 4.19s\n",
      "503:\tlearn: 0.9369863\ttest: 0.8385093\tbest: 0.8633540 (24)\ttotal: 4.25s\tremaining: 4.18s\n",
      "504:\tlearn: 0.9369863\ttest: 0.8385093\tbest: 0.8633540 (24)\ttotal: 4.26s\tremaining: 4.17s\n",
      "505:\tlearn: 0.9369863\ttest: 0.8385093\tbest: 0.8633540 (24)\ttotal: 4.27s\tremaining: 4.17s\n",
      "506:\tlearn: 0.9369863\ttest: 0.8385093\tbest: 0.8633540 (24)\ttotal: 4.28s\tremaining: 4.16s\n",
      "507:\tlearn: 0.9369863\ttest: 0.8385093\tbest: 0.8633540 (24)\ttotal: 4.28s\tremaining: 4.15s\n",
      "508:\tlearn: 0.9369863\ttest: 0.8385093\tbest: 0.8633540 (24)\ttotal: 4.29s\tremaining: 4.14s\n",
      "509:\tlearn: 0.9369863\ttest: 0.8385093\tbest: 0.8633540 (24)\ttotal: 4.29s\tremaining: 4.12s\n",
      "510:\tlearn: 0.9369863\ttest: 0.8385093\tbest: 0.8633540 (24)\ttotal: 4.3s\tremaining: 4.12s\n",
      "511:\tlearn: 0.9369863\ttest: 0.8385093\tbest: 0.8633540 (24)\ttotal: 4.31s\tremaining: 4.11s\n",
      "512:\tlearn: 0.9369863\ttest: 0.8385093\tbest: 0.8633540 (24)\ttotal: 4.32s\tremaining: 4.1s\n",
      "513:\tlearn: 0.9369863\ttest: 0.8385093\tbest: 0.8633540 (24)\ttotal: 4.33s\tremaining: 4.1s\n",
      "514:\tlearn: 0.9369863\ttest: 0.8385093\tbest: 0.8633540 (24)\ttotal: 4.34s\tremaining: 4.09s\n",
      "515:\tlearn: 0.9383562\ttest: 0.8385093\tbest: 0.8633540 (24)\ttotal: 4.35s\tremaining: 4.08s\n",
      "516:\tlearn: 0.9383562\ttest: 0.8385093\tbest: 0.8633540 (24)\ttotal: 4.36s\tremaining: 4.07s\n",
      "517:\tlearn: 0.9383562\ttest: 0.8385093\tbest: 0.8633540 (24)\ttotal: 4.37s\tremaining: 4.07s\n",
      "518:\tlearn: 0.9383562\ttest: 0.8385093\tbest: 0.8633540 (24)\ttotal: 4.38s\tremaining: 4.06s\n",
      "519:\tlearn: 0.9383562\ttest: 0.8385093\tbest: 0.8633540 (24)\ttotal: 4.39s\tremaining: 4.05s\n",
      "520:\tlearn: 0.9383562\ttest: 0.8385093\tbest: 0.8633540 (24)\ttotal: 4.4s\tremaining: 4.04s\n",
      "521:\tlearn: 0.9383562\ttest: 0.8385093\tbest: 0.8633540 (24)\ttotal: 4.4s\tremaining: 4.03s\n",
      "522:\tlearn: 0.9383562\ttest: 0.8385093\tbest: 0.8633540 (24)\ttotal: 4.42s\tremaining: 4.03s\n",
      "523:\tlearn: 0.9383562\ttest: 0.8385093\tbest: 0.8633540 (24)\ttotal: 4.42s\tremaining: 4.02s\n",
      "524:\tlearn: 0.9383562\ttest: 0.8385093\tbest: 0.8633540 (24)\ttotal: 4.43s\tremaining: 4.01s\n",
      "525:\tlearn: 0.9383562\ttest: 0.8385093\tbest: 0.8633540 (24)\ttotal: 4.44s\tremaining: 4s\n",
      "526:\tlearn: 0.9383562\ttest: 0.8385093\tbest: 0.8633540 (24)\ttotal: 4.46s\tremaining: 4s\n",
      "527:\tlearn: 0.9383562\ttest: 0.8385093\tbest: 0.8633540 (24)\ttotal: 4.47s\tremaining: 3.99s\n",
      "528:\tlearn: 0.9383562\ttest: 0.8385093\tbest: 0.8633540 (24)\ttotal: 4.47s\tremaining: 3.98s\n",
      "529:\tlearn: 0.9383562\ttest: 0.8385093\tbest: 0.8633540 (24)\ttotal: 4.48s\tremaining: 3.97s\n",
      "530:\tlearn: 0.9397260\ttest: 0.8385093\tbest: 0.8633540 (24)\ttotal: 4.49s\tremaining: 3.96s\n",
      "531:\tlearn: 0.9397260\ttest: 0.8385093\tbest: 0.8633540 (24)\ttotal: 4.49s\tremaining: 3.95s\n",
      "532:\tlearn: 0.9397260\ttest: 0.8385093\tbest: 0.8633540 (24)\ttotal: 4.5s\tremaining: 3.94s\n",
      "533:\tlearn: 0.9397260\ttest: 0.8385093\tbest: 0.8633540 (24)\ttotal: 4.51s\tremaining: 3.94s\n",
      "534:\tlearn: 0.9397260\ttest: 0.8385093\tbest: 0.8633540 (24)\ttotal: 4.52s\tremaining: 3.93s\n"
     ]
    },
    {
     "name": "stdout",
     "output_type": "stream",
     "text": [
      "535:\tlearn: 0.9397260\ttest: 0.8385093\tbest: 0.8633540 (24)\ttotal: 4.53s\tremaining: 3.92s\n",
      "536:\tlearn: 0.9397260\ttest: 0.8385093\tbest: 0.8633540 (24)\ttotal: 4.53s\tremaining: 3.91s\n",
      "537:\tlearn: 0.9397260\ttest: 0.8385093\tbest: 0.8633540 (24)\ttotal: 4.54s\tremaining: 3.9s\n",
      "538:\tlearn: 0.9397260\ttest: 0.8385093\tbest: 0.8633540 (24)\ttotal: 4.55s\tremaining: 3.89s\n",
      "539:\tlearn: 0.9397260\ttest: 0.8385093\tbest: 0.8633540 (24)\ttotal: 4.56s\tremaining: 3.88s\n",
      "540:\tlearn: 0.9397260\ttest: 0.8385093\tbest: 0.8633540 (24)\ttotal: 4.57s\tremaining: 3.88s\n",
      "541:\tlearn: 0.9397260\ttest: 0.8385093\tbest: 0.8633540 (24)\ttotal: 4.58s\tremaining: 3.87s\n",
      "542:\tlearn: 0.9397260\ttest: 0.8385093\tbest: 0.8633540 (24)\ttotal: 4.59s\tremaining: 3.86s\n",
      "543:\tlearn: 0.9397260\ttest: 0.8385093\tbest: 0.8633540 (24)\ttotal: 4.6s\tremaining: 3.85s\n",
      "544:\tlearn: 0.9397260\ttest: 0.8447205\tbest: 0.8633540 (24)\ttotal: 4.61s\tremaining: 3.85s\n",
      "545:\tlearn: 0.9397260\ttest: 0.8447205\tbest: 0.8633540 (24)\ttotal: 4.62s\tremaining: 3.84s\n",
      "546:\tlearn: 0.9410959\ttest: 0.8447205\tbest: 0.8633540 (24)\ttotal: 4.63s\tremaining: 3.83s\n",
      "547:\tlearn: 0.9410959\ttest: 0.8447205\tbest: 0.8633540 (24)\ttotal: 4.63s\tremaining: 3.82s\n",
      "548:\tlearn: 0.9397260\ttest: 0.8447205\tbest: 0.8633540 (24)\ttotal: 4.64s\tremaining: 3.82s\n",
      "549:\tlearn: 0.9397260\ttest: 0.8447205\tbest: 0.8633540 (24)\ttotal: 4.66s\tremaining: 3.81s\n",
      "550:\tlearn: 0.9397260\ttest: 0.8447205\tbest: 0.8633540 (24)\ttotal: 4.66s\tremaining: 3.8s\n",
      "551:\tlearn: 0.9397260\ttest: 0.8447205\tbest: 0.8633540 (24)\ttotal: 4.67s\tremaining: 3.79s\n",
      "552:\tlearn: 0.9397260\ttest: 0.8385093\tbest: 0.8633540 (24)\ttotal: 4.68s\tremaining: 3.78s\n",
      "553:\tlearn: 0.9397260\ttest: 0.8385093\tbest: 0.8633540 (24)\ttotal: 4.69s\tremaining: 3.77s\n",
      "554:\tlearn: 0.9397260\ttest: 0.8447205\tbest: 0.8633540 (24)\ttotal: 4.7s\tremaining: 3.77s\n",
      "555:\tlearn: 0.9397260\ttest: 0.8447205\tbest: 0.8633540 (24)\ttotal: 4.71s\tremaining: 3.76s\n",
      "556:\tlearn: 0.9397260\ttest: 0.8385093\tbest: 0.8633540 (24)\ttotal: 4.72s\tremaining: 3.75s\n",
      "557:\tlearn: 0.9410959\ttest: 0.8385093\tbest: 0.8633540 (24)\ttotal: 4.73s\tremaining: 3.75s\n",
      "558:\tlearn: 0.9410959\ttest: 0.8447205\tbest: 0.8633540 (24)\ttotal: 4.74s\tremaining: 3.74s\n",
      "559:\tlearn: 0.9410959\ttest: 0.8447205\tbest: 0.8633540 (24)\ttotal: 4.75s\tremaining: 3.73s\n",
      "560:\tlearn: 0.9410959\ttest: 0.8385093\tbest: 0.8633540 (24)\ttotal: 4.75s\tremaining: 3.72s\n",
      "561:\tlearn: 0.9410959\ttest: 0.8385093\tbest: 0.8633540 (24)\ttotal: 4.76s\tremaining: 3.71s\n",
      "562:\tlearn: 0.9410959\ttest: 0.8385093\tbest: 0.8633540 (24)\ttotal: 4.77s\tremaining: 3.7s\n",
      "563:\tlearn: 0.9410959\ttest: 0.8385093\tbest: 0.8633540 (24)\ttotal: 4.78s\tremaining: 3.69s\n",
      "564:\tlearn: 0.9410959\ttest: 0.8385093\tbest: 0.8633540 (24)\ttotal: 4.78s\tremaining: 3.68s\n",
      "565:\tlearn: 0.9410959\ttest: 0.8385093\tbest: 0.8633540 (24)\ttotal: 4.79s\tremaining: 3.67s\n",
      "566:\tlearn: 0.9410959\ttest: 0.8385093\tbest: 0.8633540 (24)\ttotal: 4.79s\tremaining: 3.66s\n",
      "567:\tlearn: 0.9410959\ttest: 0.8385093\tbest: 0.8633540 (24)\ttotal: 4.8s\tremaining: 3.65s\n",
      "568:\tlearn: 0.9410959\ttest: 0.8385093\tbest: 0.8633540 (24)\ttotal: 4.81s\tremaining: 3.64s\n",
      "569:\tlearn: 0.9410959\ttest: 0.8385093\tbest: 0.8633540 (24)\ttotal: 4.82s\tremaining: 3.63s\n",
      "570:\tlearn: 0.9410959\ttest: 0.8385093\tbest: 0.8633540 (24)\ttotal: 4.83s\tremaining: 3.63s\n",
      "571:\tlearn: 0.9410959\ttest: 0.8385093\tbest: 0.8633540 (24)\ttotal: 4.84s\tremaining: 3.62s\n",
      "572:\tlearn: 0.9438356\ttest: 0.8385093\tbest: 0.8633540 (24)\ttotal: 4.85s\tremaining: 3.61s\n",
      "573:\tlearn: 0.9438356\ttest: 0.8385093\tbest: 0.8633540 (24)\ttotal: 4.86s\tremaining: 3.6s\n",
      "574:\tlearn: 0.9438356\ttest: 0.8385093\tbest: 0.8633540 (24)\ttotal: 4.87s\tremaining: 3.6s\n",
      "575:\tlearn: 0.9438356\ttest: 0.8385093\tbest: 0.8633540 (24)\ttotal: 4.88s\tremaining: 3.59s\n",
      "576:\tlearn: 0.9438356\ttest: 0.8322981\tbest: 0.8633540 (24)\ttotal: 4.88s\tremaining: 3.58s\n",
      "577:\tlearn: 0.9438356\ttest: 0.8322981\tbest: 0.8633540 (24)\ttotal: 4.89s\tremaining: 3.57s\n",
      "578:\tlearn: 0.9438356\ttest: 0.8385093\tbest: 0.8633540 (24)\ttotal: 4.9s\tremaining: 3.56s\n",
      "579:\tlearn: 0.9438356\ttest: 0.8385093\tbest: 0.8633540 (24)\ttotal: 4.91s\tremaining: 3.55s\n",
      "580:\tlearn: 0.9438356\ttest: 0.8322981\tbest: 0.8633540 (24)\ttotal: 4.92s\tremaining: 3.55s\n",
      "581:\tlearn: 0.9438356\ttest: 0.8322981\tbest: 0.8633540 (24)\ttotal: 4.93s\tremaining: 3.54s\n",
      "582:\tlearn: 0.9438356\ttest: 0.8385093\tbest: 0.8633540 (24)\ttotal: 4.94s\tremaining: 3.54s\n",
      "583:\tlearn: 0.9438356\ttest: 0.8385093\tbest: 0.8633540 (24)\ttotal: 4.95s\tremaining: 3.53s\n",
      "584:\tlearn: 0.9438356\ttest: 0.8385093\tbest: 0.8633540 (24)\ttotal: 4.96s\tremaining: 3.52s\n",
      "585:\tlearn: 0.9438356\ttest: 0.8322981\tbest: 0.8633540 (24)\ttotal: 4.97s\tremaining: 3.51s\n",
      "586:\tlearn: 0.9438356\ttest: 0.8322981\tbest: 0.8633540 (24)\ttotal: 4.98s\tremaining: 3.5s\n",
      "587:\tlearn: 0.9438356\ttest: 0.8322981\tbest: 0.8633540 (24)\ttotal: 4.99s\tremaining: 3.5s\n",
      "588:\tlearn: 0.9438356\ttest: 0.8322981\tbest: 0.8633540 (24)\ttotal: 5s\tremaining: 3.49s\n",
      "589:\tlearn: 0.9438356\ttest: 0.8322981\tbest: 0.8633540 (24)\ttotal: 5s\tremaining: 3.48s\n",
      "590:\tlearn: 0.9438356\ttest: 0.8322981\tbest: 0.8633540 (24)\ttotal: 5.01s\tremaining: 3.47s\n",
      "591:\tlearn: 0.9438356\ttest: 0.8322981\tbest: 0.8633540 (24)\ttotal: 5.02s\tremaining: 3.46s\n",
      "592:\tlearn: 0.9438356\ttest: 0.8322981\tbest: 0.8633540 (24)\ttotal: 5.03s\tremaining: 3.45s\n",
      "593:\tlearn: 0.9438356\ttest: 0.8322981\tbest: 0.8633540 (24)\ttotal: 5.04s\tremaining: 3.44s\n",
      "594:\tlearn: 0.9438356\ttest: 0.8322981\tbest: 0.8633540 (24)\ttotal: 5.04s\tremaining: 3.43s\n",
      "595:\tlearn: 0.9438356\ttest: 0.8322981\tbest: 0.8633540 (24)\ttotal: 5.07s\tremaining: 3.43s\n",
      "596:\tlearn: 0.9438356\ttest: 0.8322981\tbest: 0.8633540 (24)\ttotal: 5.08s\tremaining: 3.43s\n",
      "597:\tlearn: 0.9438356\ttest: 0.8322981\tbest: 0.8633540 (24)\ttotal: 5.08s\tremaining: 3.42s\n",
      "598:\tlearn: 0.9438356\ttest: 0.8322981\tbest: 0.8633540 (24)\ttotal: 5.1s\tremaining: 3.41s\n",
      "599:\tlearn: 0.9438356\ttest: 0.8322981\tbest: 0.8633540 (24)\ttotal: 5.1s\tremaining: 3.4s\n",
      "600:\tlearn: 0.9438356\ttest: 0.8322981\tbest: 0.8633540 (24)\ttotal: 5.11s\tremaining: 3.39s\n",
      "601:\tlearn: 0.9438356\ttest: 0.8322981\tbest: 0.8633540 (24)\ttotal: 5.13s\tremaining: 3.39s\n",
      "602:\tlearn: 0.9438356\ttest: 0.8322981\tbest: 0.8633540 (24)\ttotal: 5.14s\tremaining: 3.39s\n",
      "603:\tlearn: 0.9438356\ttest: 0.8322981\tbest: 0.8633540 (24)\ttotal: 5.15s\tremaining: 3.38s\n",
      "604:\tlearn: 0.9438356\ttest: 0.8322981\tbest: 0.8633540 (24)\ttotal: 5.16s\tremaining: 3.37s\n",
      "605:\tlearn: 0.9438356\ttest: 0.8322981\tbest: 0.8633540 (24)\ttotal: 5.16s\tremaining: 3.36s\n",
      "606:\tlearn: 0.9438356\ttest: 0.8322981\tbest: 0.8633540 (24)\ttotal: 5.17s\tremaining: 3.35s\n",
      "607:\tlearn: 0.9438356\ttest: 0.8322981\tbest: 0.8633540 (24)\ttotal: 5.17s\tremaining: 3.33s\n",
      "608:\tlearn: 0.9438356\ttest: 0.8322981\tbest: 0.8633540 (24)\ttotal: 5.18s\tremaining: 3.32s\n",
      "609:\tlearn: 0.9438356\ttest: 0.8322981\tbest: 0.8633540 (24)\ttotal: 5.19s\tremaining: 3.32s\n",
      "610:\tlearn: 0.9438356\ttest: 0.8322981\tbest: 0.8633540 (24)\ttotal: 5.19s\tremaining: 3.31s\n",
      "611:\tlearn: 0.9438356\ttest: 0.8385093\tbest: 0.8633540 (24)\ttotal: 5.2s\tremaining: 3.3s\n",
      "612:\tlearn: 0.9452055\ttest: 0.8385093\tbest: 0.8633540 (24)\ttotal: 5.21s\tremaining: 3.29s\n",
      "613:\tlearn: 0.9452055\ttest: 0.8385093\tbest: 0.8633540 (24)\ttotal: 5.22s\tremaining: 3.29s\n",
      "614:\tlearn: 0.9452055\ttest: 0.8385093\tbest: 0.8633540 (24)\ttotal: 5.23s\tremaining: 3.27s\n",
      "615:\tlearn: 0.9452055\ttest: 0.8385093\tbest: 0.8633540 (24)\ttotal: 5.24s\tremaining: 3.27s\n",
      "616:\tlearn: 0.9452055\ttest: 0.8322981\tbest: 0.8633540 (24)\ttotal: 5.25s\tremaining: 3.26s\n",
      "617:\tlearn: 0.9452055\ttest: 0.8385093\tbest: 0.8633540 (24)\ttotal: 5.25s\tremaining: 3.25s\n",
      "618:\tlearn: 0.9452055\ttest: 0.8322981\tbest: 0.8633540 (24)\ttotal: 5.26s\tremaining: 3.24s\n",
      "619:\tlearn: 0.9452055\ttest: 0.8322981\tbest: 0.8633540 (24)\ttotal: 5.27s\tremaining: 3.23s\n",
      "620:\tlearn: 0.9452055\ttest: 0.8322981\tbest: 0.8633540 (24)\ttotal: 5.28s\tremaining: 3.22s\n",
      "621:\tlearn: 0.9452055\ttest: 0.8322981\tbest: 0.8633540 (24)\ttotal: 5.28s\tremaining: 3.21s\n",
      "622:\tlearn: 0.9452055\ttest: 0.8322981\tbest: 0.8633540 (24)\ttotal: 5.29s\tremaining: 3.2s\n",
      "623:\tlearn: 0.9452055\ttest: 0.8322981\tbest: 0.8633540 (24)\ttotal: 5.29s\tremaining: 3.19s\n",
      "624:\tlearn: 0.9452055\ttest: 0.8322981\tbest: 0.8633540 (24)\ttotal: 5.3s\tremaining: 3.18s\n",
      "625:\tlearn: 0.9452055\ttest: 0.8322981\tbest: 0.8633540 (24)\ttotal: 5.3s\tremaining: 3.17s\n",
      "626:\tlearn: 0.9452055\ttest: 0.8322981\tbest: 0.8633540 (24)\ttotal: 5.31s\tremaining: 3.16s\n",
      "627:\tlearn: 0.9452055\ttest: 0.8322981\tbest: 0.8633540 (24)\ttotal: 5.32s\tremaining: 3.15s\n",
      "628:\tlearn: 0.9452055\ttest: 0.8322981\tbest: 0.8633540 (24)\ttotal: 5.33s\tremaining: 3.15s\n",
      "629:\tlearn: 0.9452055\ttest: 0.8322981\tbest: 0.8633540 (24)\ttotal: 5.34s\tremaining: 3.14s\n",
      "630:\tlearn: 0.9452055\ttest: 0.8322981\tbest: 0.8633540 (24)\ttotal: 5.35s\tremaining: 3.13s\n",
      "631:\tlearn: 0.9452055\ttest: 0.8322981\tbest: 0.8633540 (24)\ttotal: 5.36s\tremaining: 3.12s\n",
      "632:\tlearn: 0.9452055\ttest: 0.8322981\tbest: 0.8633540 (24)\ttotal: 5.36s\tremaining: 3.11s\n",
      "633:\tlearn: 0.9452055\ttest: 0.8322981\tbest: 0.8633540 (24)\ttotal: 5.37s\tremaining: 3.1s\n",
      "634:\tlearn: 0.9452055\ttest: 0.8322981\tbest: 0.8633540 (24)\ttotal: 5.38s\tremaining: 3.09s\n",
      "635:\tlearn: 0.9452055\ttest: 0.8322981\tbest: 0.8633540 (24)\ttotal: 5.39s\tremaining: 3.08s\n",
      "636:\tlearn: 0.9452055\ttest: 0.8322981\tbest: 0.8633540 (24)\ttotal: 5.4s\tremaining: 3.08s\n",
      "637:\tlearn: 0.9452055\ttest: 0.8322981\tbest: 0.8633540 (24)\ttotal: 5.41s\tremaining: 3.07s\n",
      "638:\tlearn: 0.9452055\ttest: 0.8385093\tbest: 0.8633540 (24)\ttotal: 5.42s\tremaining: 3.06s\n",
      "639:\tlearn: 0.9452055\ttest: 0.8447205\tbest: 0.8633540 (24)\ttotal: 5.42s\tremaining: 3.05s\n",
      "640:\tlearn: 0.9452055\ttest: 0.8447205\tbest: 0.8633540 (24)\ttotal: 5.43s\tremaining: 3.04s\n",
      "641:\tlearn: 0.9452055\ttest: 0.8447205\tbest: 0.8633540 (24)\ttotal: 5.44s\tremaining: 3.03s\n",
      "642:\tlearn: 0.9452055\ttest: 0.8447205\tbest: 0.8633540 (24)\ttotal: 5.45s\tremaining: 3.02s\n",
      "643:\tlearn: 0.9452055\ttest: 0.8447205\tbest: 0.8633540 (24)\ttotal: 5.47s\tremaining: 3.02s\n",
      "644:\tlearn: 0.9452055\ttest: 0.8322981\tbest: 0.8633540 (24)\ttotal: 5.48s\tremaining: 3.02s\n",
      "645:\tlearn: 0.9452055\ttest: 0.8509317\tbest: 0.8633540 (24)\ttotal: 5.49s\tremaining: 3.01s\n"
     ]
    },
    {
     "name": "stdout",
     "output_type": "stream",
     "text": [
      "646:\tlearn: 0.9452055\ttest: 0.8447205\tbest: 0.8633540 (24)\ttotal: 5.5s\tremaining: 3s\n",
      "647:\tlearn: 0.9452055\ttest: 0.8447205\tbest: 0.8633540 (24)\ttotal: 5.51s\tremaining: 2.99s\n",
      "648:\tlearn: 0.9452055\ttest: 0.8447205\tbest: 0.8633540 (24)\ttotal: 5.54s\tremaining: 3s\n",
      "649:\tlearn: 0.9452055\ttest: 0.8447205\tbest: 0.8633540 (24)\ttotal: 5.55s\tremaining: 2.99s\n",
      "650:\tlearn: 0.9465753\ttest: 0.8447205\tbest: 0.8633540 (24)\ttotal: 5.55s\tremaining: 2.98s\n",
      "651:\tlearn: 0.9465753\ttest: 0.8447205\tbest: 0.8633540 (24)\ttotal: 5.56s\tremaining: 2.97s\n",
      "652:\tlearn: 0.9479452\ttest: 0.8447205\tbest: 0.8633540 (24)\ttotal: 5.57s\tremaining: 2.96s\n",
      "653:\tlearn: 0.9479452\ttest: 0.8447205\tbest: 0.8633540 (24)\ttotal: 5.58s\tremaining: 2.95s\n",
      "654:\tlearn: 0.9479452\ttest: 0.8447205\tbest: 0.8633540 (24)\ttotal: 5.59s\tremaining: 2.94s\n",
      "655:\tlearn: 0.9493151\ttest: 0.8447205\tbest: 0.8633540 (24)\ttotal: 5.6s\tremaining: 2.94s\n",
      "656:\tlearn: 0.9493151\ttest: 0.8447205\tbest: 0.8633540 (24)\ttotal: 5.61s\tremaining: 2.93s\n",
      "657:\tlearn: 0.9493151\ttest: 0.8447205\tbest: 0.8633540 (24)\ttotal: 5.62s\tremaining: 2.92s\n",
      "658:\tlearn: 0.9493151\ttest: 0.8447205\tbest: 0.8633540 (24)\ttotal: 5.63s\tremaining: 2.91s\n",
      "659:\tlearn: 0.9493151\ttest: 0.8447205\tbest: 0.8633540 (24)\ttotal: 5.64s\tremaining: 2.9s\n",
      "660:\tlearn: 0.9493151\ttest: 0.8447205\tbest: 0.8633540 (24)\ttotal: 5.64s\tremaining: 2.9s\n",
      "661:\tlearn: 0.9493151\ttest: 0.8447205\tbest: 0.8633540 (24)\ttotal: 5.65s\tremaining: 2.88s\n",
      "662:\tlearn: 0.9493151\ttest: 0.8385093\tbest: 0.8633540 (24)\ttotal: 5.66s\tremaining: 2.88s\n",
      "663:\tlearn: 0.9493151\ttest: 0.8447205\tbest: 0.8633540 (24)\ttotal: 5.67s\tremaining: 2.87s\n",
      "664:\tlearn: 0.9493151\ttest: 0.8447205\tbest: 0.8633540 (24)\ttotal: 5.68s\tremaining: 2.86s\n",
      "665:\tlearn: 0.9493151\ttest: 0.8447205\tbest: 0.8633540 (24)\ttotal: 5.69s\tremaining: 2.85s\n",
      "666:\tlearn: 0.9493151\ttest: 0.8447205\tbest: 0.8633540 (24)\ttotal: 5.7s\tremaining: 2.85s\n",
      "667:\tlearn: 0.9493151\ttest: 0.8447205\tbest: 0.8633540 (24)\ttotal: 5.71s\tremaining: 2.84s\n",
      "668:\tlearn: 0.9493151\ttest: 0.8447205\tbest: 0.8633540 (24)\ttotal: 5.72s\tremaining: 2.83s\n",
      "669:\tlearn: 0.9493151\ttest: 0.8447205\tbest: 0.8633540 (24)\ttotal: 5.72s\tremaining: 2.82s\n",
      "670:\tlearn: 0.9479452\ttest: 0.8385093\tbest: 0.8633540 (24)\ttotal: 5.75s\tremaining: 2.82s\n",
      "671:\tlearn: 0.9479452\ttest: 0.8385093\tbest: 0.8633540 (24)\ttotal: 5.76s\tremaining: 2.81s\n",
      "672:\tlearn: 0.9479452\ttest: 0.8385093\tbest: 0.8633540 (24)\ttotal: 5.78s\tremaining: 2.81s\n",
      "673:\tlearn: 0.9479452\ttest: 0.8385093\tbest: 0.8633540 (24)\ttotal: 5.78s\tremaining: 2.8s\n",
      "674:\tlearn: 0.9479452\ttest: 0.8322981\tbest: 0.8633540 (24)\ttotal: 5.79s\tremaining: 2.79s\n",
      "675:\tlearn: 0.9479452\ttest: 0.8322981\tbest: 0.8633540 (24)\ttotal: 5.79s\tremaining: 2.78s\n",
      "676:\tlearn: 0.9479452\ttest: 0.8322981\tbest: 0.8633540 (24)\ttotal: 5.8s\tremaining: 2.77s\n",
      "677:\tlearn: 0.9479452\ttest: 0.8385093\tbest: 0.8633540 (24)\ttotal: 5.81s\tremaining: 2.76s\n",
      "678:\tlearn: 0.9479452\ttest: 0.8385093\tbest: 0.8633540 (24)\ttotal: 5.82s\tremaining: 2.75s\n",
      "679:\tlearn: 0.9479452\ttest: 0.8385093\tbest: 0.8633540 (24)\ttotal: 5.83s\tremaining: 2.74s\n",
      "680:\tlearn: 0.9479452\ttest: 0.8385093\tbest: 0.8633540 (24)\ttotal: 5.84s\tremaining: 2.73s\n",
      "681:\tlearn: 0.9479452\ttest: 0.8385093\tbest: 0.8633540 (24)\ttotal: 5.85s\tremaining: 2.73s\n",
      "682:\tlearn: 0.9479452\ttest: 0.8385093\tbest: 0.8633540 (24)\ttotal: 5.86s\tremaining: 2.72s\n",
      "683:\tlearn: 0.9493151\ttest: 0.8385093\tbest: 0.8633540 (24)\ttotal: 5.87s\tremaining: 2.71s\n",
      "684:\tlearn: 0.9493151\ttest: 0.8385093\tbest: 0.8633540 (24)\ttotal: 5.88s\tremaining: 2.7s\n",
      "685:\tlearn: 0.9506849\ttest: 0.8322981\tbest: 0.8633540 (24)\ttotal: 5.88s\tremaining: 2.69s\n",
      "686:\tlearn: 0.9493151\ttest: 0.8322981\tbest: 0.8633540 (24)\ttotal: 5.89s\tremaining: 2.68s\n",
      "687:\tlearn: 0.9506849\ttest: 0.8322981\tbest: 0.8633540 (24)\ttotal: 5.9s\tremaining: 2.68s\n",
      "688:\tlearn: 0.9506849\ttest: 0.8322981\tbest: 0.8633540 (24)\ttotal: 5.91s\tremaining: 2.67s\n",
      "689:\tlearn: 0.9520548\ttest: 0.8322981\tbest: 0.8633540 (24)\ttotal: 5.92s\tremaining: 2.66s\n",
      "690:\tlearn: 0.9520548\ttest: 0.8385093\tbest: 0.8633540 (24)\ttotal: 5.93s\tremaining: 2.65s\n",
      "691:\tlearn: 0.9520548\ttest: 0.8385093\tbest: 0.8633540 (24)\ttotal: 5.93s\tremaining: 2.64s\n",
      "692:\tlearn: 0.9520548\ttest: 0.8385093\tbest: 0.8633540 (24)\ttotal: 5.94s\tremaining: 2.63s\n",
      "693:\tlearn: 0.9520548\ttest: 0.8385093\tbest: 0.8633540 (24)\ttotal: 5.95s\tremaining: 2.62s\n",
      "694:\tlearn: 0.9520548\ttest: 0.8322981\tbest: 0.8633540 (24)\ttotal: 5.95s\tremaining: 2.61s\n",
      "695:\tlearn: 0.9520548\ttest: 0.8322981\tbest: 0.8633540 (24)\ttotal: 5.96s\tremaining: 2.6s\n",
      "696:\tlearn: 0.9506849\ttest: 0.8322981\tbest: 0.8633540 (24)\ttotal: 5.96s\tremaining: 2.59s\n",
      "697:\tlearn: 0.9520548\ttest: 0.8385093\tbest: 0.8633540 (24)\ttotal: 5.97s\tremaining: 2.58s\n",
      "698:\tlearn: 0.9520548\ttest: 0.8385093\tbest: 0.8633540 (24)\ttotal: 5.98s\tremaining: 2.58s\n",
      "699:\tlearn: 0.9520548\ttest: 0.8385093\tbest: 0.8633540 (24)\ttotal: 5.99s\tremaining: 2.56s\n",
      "700:\tlearn: 0.9520548\ttest: 0.8385093\tbest: 0.8633540 (24)\ttotal: 6s\tremaining: 2.56s\n",
      "701:\tlearn: 0.9520548\ttest: 0.8385093\tbest: 0.8633540 (24)\ttotal: 6.01s\tremaining: 2.55s\n",
      "702:\tlearn: 0.9520548\ttest: 0.8385093\tbest: 0.8633540 (24)\ttotal: 6.02s\tremaining: 2.54s\n",
      "703:\tlearn: 0.9520548\ttest: 0.8322981\tbest: 0.8633540 (24)\ttotal: 6.02s\tremaining: 2.53s\n",
      "704:\tlearn: 0.9520548\ttest: 0.8322981\tbest: 0.8633540 (24)\ttotal: 6.04s\tremaining: 2.52s\n",
      "705:\tlearn: 0.9520548\ttest: 0.8322981\tbest: 0.8633540 (24)\ttotal: 6.04s\tremaining: 2.52s\n",
      "706:\tlearn: 0.9520548\ttest: 0.8322981\tbest: 0.8633540 (24)\ttotal: 6.05s\tremaining: 2.51s\n",
      "707:\tlearn: 0.9520548\ttest: 0.8322981\tbest: 0.8633540 (24)\ttotal: 6.06s\tremaining: 2.5s\n",
      "708:\tlearn: 0.9520548\ttest: 0.8322981\tbest: 0.8633540 (24)\ttotal: 6.07s\tremaining: 2.49s\n",
      "709:\tlearn: 0.9520548\ttest: 0.8322981\tbest: 0.8633540 (24)\ttotal: 6.08s\tremaining: 2.48s\n",
      "710:\tlearn: 0.9520548\ttest: 0.8322981\tbest: 0.8633540 (24)\ttotal: 6.09s\tremaining: 2.48s\n",
      "711:\tlearn: 0.9520548\ttest: 0.8322981\tbest: 0.8633540 (24)\ttotal: 6.09s\tremaining: 2.46s\n",
      "712:\tlearn: 0.9520548\ttest: 0.8322981\tbest: 0.8633540 (24)\ttotal: 6.11s\tremaining: 2.46s\n",
      "713:\tlearn: 0.9520548\ttest: 0.8322981\tbest: 0.8633540 (24)\ttotal: 6.11s\tremaining: 2.45s\n",
      "714:\tlearn: 0.9520548\ttest: 0.8322981\tbest: 0.8633540 (24)\ttotal: 6.12s\tremaining: 2.44s\n",
      "715:\tlearn: 0.9520548\ttest: 0.8322981\tbest: 0.8633540 (24)\ttotal: 6.12s\tremaining: 2.43s\n",
      "716:\tlearn: 0.9520548\ttest: 0.8322981\tbest: 0.8633540 (24)\ttotal: 6.13s\tremaining: 2.42s\n",
      "717:\tlearn: 0.9520548\ttest: 0.8322981\tbest: 0.8633540 (24)\ttotal: 6.14s\tremaining: 2.41s\n",
      "718:\tlearn: 0.9520548\ttest: 0.8322981\tbest: 0.8633540 (24)\ttotal: 6.15s\tremaining: 2.4s\n",
      "719:\tlearn: 0.9520548\ttest: 0.8322981\tbest: 0.8633540 (24)\ttotal: 6.16s\tremaining: 2.39s\n",
      "720:\tlearn: 0.9534247\ttest: 0.8322981\tbest: 0.8633540 (24)\ttotal: 6.17s\tremaining: 2.39s\n",
      "721:\tlearn: 0.9534247\ttest: 0.8322981\tbest: 0.8633540 (24)\ttotal: 6.18s\tremaining: 2.38s\n",
      "722:\tlearn: 0.9534247\ttest: 0.8322981\tbest: 0.8633540 (24)\ttotal: 6.18s\tremaining: 2.37s\n",
      "723:\tlearn: 0.9534247\ttest: 0.8322981\tbest: 0.8633540 (24)\ttotal: 6.19s\tremaining: 2.36s\n",
      "724:\tlearn: 0.9534247\ttest: 0.8322981\tbest: 0.8633540 (24)\ttotal: 6.2s\tremaining: 2.35s\n",
      "725:\tlearn: 0.9534247\ttest: 0.8322981\tbest: 0.8633540 (24)\ttotal: 6.21s\tremaining: 2.34s\n",
      "726:\tlearn: 0.9534247\ttest: 0.8322981\tbest: 0.8633540 (24)\ttotal: 6.24s\tremaining: 2.34s\n",
      "727:\tlearn: 0.9534247\ttest: 0.8322981\tbest: 0.8633540 (24)\ttotal: 6.25s\tremaining: 2.33s\n",
      "728:\tlearn: 0.9534247\ttest: 0.8322981\tbest: 0.8633540 (24)\ttotal: 6.26s\tremaining: 2.33s\n",
      "729:\tlearn: 0.9547945\ttest: 0.8322981\tbest: 0.8633540 (24)\ttotal: 6.27s\tremaining: 2.32s\n",
      "730:\tlearn: 0.9547945\ttest: 0.8322981\tbest: 0.8633540 (24)\ttotal: 6.28s\tremaining: 2.31s\n",
      "731:\tlearn: 0.9547945\ttest: 0.8322981\tbest: 0.8633540 (24)\ttotal: 6.29s\tremaining: 2.3s\n",
      "732:\tlearn: 0.9547945\ttest: 0.8322981\tbest: 0.8633540 (24)\ttotal: 6.3s\tremaining: 2.29s\n",
      "733:\tlearn: 0.9547945\ttest: 0.8322981\tbest: 0.8633540 (24)\ttotal: 6.31s\tremaining: 2.29s\n",
      "734:\tlearn: 0.9547945\ttest: 0.8322981\tbest: 0.8633540 (24)\ttotal: 6.32s\tremaining: 2.28s\n",
      "735:\tlearn: 0.9547945\ttest: 0.8385093\tbest: 0.8633540 (24)\ttotal: 6.32s\tremaining: 2.27s\n",
      "736:\tlearn: 0.9547945\ttest: 0.8385093\tbest: 0.8633540 (24)\ttotal: 6.33s\tremaining: 2.26s\n",
      "737:\tlearn: 0.9547945\ttest: 0.8385093\tbest: 0.8633540 (24)\ttotal: 6.34s\tremaining: 2.25s\n",
      "738:\tlearn: 0.9547945\ttest: 0.8385093\tbest: 0.8633540 (24)\ttotal: 6.35s\tremaining: 2.24s\n",
      "739:\tlearn: 0.9547945\ttest: 0.8385093\tbest: 0.8633540 (24)\ttotal: 6.36s\tremaining: 2.23s\n",
      "740:\tlearn: 0.9547945\ttest: 0.8385093\tbest: 0.8633540 (24)\ttotal: 6.37s\tremaining: 2.23s\n",
      "741:\tlearn: 0.9547945\ttest: 0.8385093\tbest: 0.8633540 (24)\ttotal: 6.37s\tremaining: 2.22s\n",
      "742:\tlearn: 0.9547945\ttest: 0.8385093\tbest: 0.8633540 (24)\ttotal: 6.38s\tremaining: 2.21s\n",
      "743:\tlearn: 0.9547945\ttest: 0.8385093\tbest: 0.8633540 (24)\ttotal: 6.39s\tremaining: 2.2s\n",
      "744:\tlearn: 0.9561644\ttest: 0.8385093\tbest: 0.8633540 (24)\ttotal: 6.4s\tremaining: 2.19s\n",
      "745:\tlearn: 0.9561644\ttest: 0.8385093\tbest: 0.8633540 (24)\ttotal: 6.41s\tremaining: 2.18s\n",
      "746:\tlearn: 0.9561644\ttest: 0.8385093\tbest: 0.8633540 (24)\ttotal: 6.42s\tremaining: 2.17s\n"
     ]
    },
    {
     "name": "stdout",
     "output_type": "stream",
     "text": [
      "747:\tlearn: 0.9547945\ttest: 0.8385093\tbest: 0.8633540 (24)\ttotal: 6.43s\tremaining: 2.17s\n",
      "748:\tlearn: 0.9561644\ttest: 0.8385093\tbest: 0.8633540 (24)\ttotal: 6.44s\tremaining: 2.16s\n",
      "749:\tlearn: 0.9561644\ttest: 0.8385093\tbest: 0.8633540 (24)\ttotal: 6.45s\tremaining: 2.15s\n",
      "750:\tlearn: 0.9575342\ttest: 0.8385093\tbest: 0.8633540 (24)\ttotal: 6.46s\tremaining: 2.14s\n",
      "751:\tlearn: 0.9561644\ttest: 0.8385093\tbest: 0.8633540 (24)\ttotal: 6.46s\tremaining: 2.13s\n",
      "752:\tlearn: 0.9561644\ttest: 0.8385093\tbest: 0.8633540 (24)\ttotal: 6.47s\tremaining: 2.12s\n",
      "753:\tlearn: 0.9561644\ttest: 0.8385093\tbest: 0.8633540 (24)\ttotal: 6.48s\tremaining: 2.11s\n",
      "754:\tlearn: 0.9561644\ttest: 0.8385093\tbest: 0.8633540 (24)\ttotal: 6.49s\tremaining: 2.1s\n",
      "755:\tlearn: 0.9561644\ttest: 0.8385093\tbest: 0.8633540 (24)\ttotal: 6.49s\tremaining: 2.1s\n",
      "756:\tlearn: 0.9561644\ttest: 0.8385093\tbest: 0.8633540 (24)\ttotal: 6.5s\tremaining: 2.09s\n",
      "757:\tlearn: 0.9561644\ttest: 0.8385093\tbest: 0.8633540 (24)\ttotal: 6.51s\tremaining: 2.08s\n",
      "758:\tlearn: 0.9561644\ttest: 0.8385093\tbest: 0.8633540 (24)\ttotal: 6.52s\tremaining: 2.07s\n",
      "759:\tlearn: 0.9561644\ttest: 0.8385093\tbest: 0.8633540 (24)\ttotal: 6.53s\tremaining: 2.06s\n",
      "760:\tlearn: 0.9561644\ttest: 0.8385093\tbest: 0.8633540 (24)\ttotal: 6.53s\tremaining: 2.05s\n",
      "761:\tlearn: 0.9561644\ttest: 0.8385093\tbest: 0.8633540 (24)\ttotal: 6.54s\tremaining: 2.04s\n",
      "762:\tlearn: 0.9561644\ttest: 0.8385093\tbest: 0.8633540 (24)\ttotal: 6.54s\tremaining: 2.03s\n",
      "763:\tlearn: 0.9561644\ttest: 0.8385093\tbest: 0.8633540 (24)\ttotal: 6.55s\tremaining: 2.02s\n",
      "764:\tlearn: 0.9575342\ttest: 0.8385093\tbest: 0.8633540 (24)\ttotal: 6.55s\tremaining: 2.01s\n",
      "765:\tlearn: 0.9575342\ttest: 0.8385093\tbest: 0.8633540 (24)\ttotal: 6.56s\tremaining: 2s\n",
      "766:\tlearn: 0.9575342\ttest: 0.8385093\tbest: 0.8633540 (24)\ttotal: 6.57s\tremaining: 1.99s\n",
      "767:\tlearn: 0.9575342\ttest: 0.8385093\tbest: 0.8633540 (24)\ttotal: 6.57s\tremaining: 1.98s\n",
      "768:\tlearn: 0.9575342\ttest: 0.8385093\tbest: 0.8633540 (24)\ttotal: 6.58s\tremaining: 1.98s\n",
      "769:\tlearn: 0.9575342\ttest: 0.8385093\tbest: 0.8633540 (24)\ttotal: 6.59s\tremaining: 1.97s\n",
      "770:\tlearn: 0.9575342\ttest: 0.8385093\tbest: 0.8633540 (24)\ttotal: 6.6s\tremaining: 1.96s\n",
      "771:\tlearn: 0.9575342\ttest: 0.8385093\tbest: 0.8633540 (24)\ttotal: 6.6s\tremaining: 1.95s\n",
      "772:\tlearn: 0.9575342\ttest: 0.8385093\tbest: 0.8633540 (24)\ttotal: 6.61s\tremaining: 1.94s\n",
      "773:\tlearn: 0.9575342\ttest: 0.8385093\tbest: 0.8633540 (24)\ttotal: 6.63s\tremaining: 1.94s\n",
      "774:\tlearn: 0.9575342\ttest: 0.8385093\tbest: 0.8633540 (24)\ttotal: 6.63s\tremaining: 1.93s\n",
      "775:\tlearn: 0.9575342\ttest: 0.8385093\tbest: 0.8633540 (24)\ttotal: 6.64s\tremaining: 1.92s\n",
      "776:\tlearn: 0.9575342\ttest: 0.8385093\tbest: 0.8633540 (24)\ttotal: 6.65s\tremaining: 1.91s\n",
      "777:\tlearn: 0.9575342\ttest: 0.8385093\tbest: 0.8633540 (24)\ttotal: 6.65s\tremaining: 1.9s\n",
      "778:\tlearn: 0.9575342\ttest: 0.8385093\tbest: 0.8633540 (24)\ttotal: 6.66s\tremaining: 1.89s\n",
      "779:\tlearn: 0.9575342\ttest: 0.8385093\tbest: 0.8633540 (24)\ttotal: 6.67s\tremaining: 1.88s\n",
      "780:\tlearn: 0.9575342\ttest: 0.8385093\tbest: 0.8633540 (24)\ttotal: 6.67s\tremaining: 1.87s\n",
      "781:\tlearn: 0.9575342\ttest: 0.8385093\tbest: 0.8633540 (24)\ttotal: 6.68s\tremaining: 1.86s\n",
      "782:\tlearn: 0.9575342\ttest: 0.8385093\tbest: 0.8633540 (24)\ttotal: 6.69s\tremaining: 1.85s\n",
      "783:\tlearn: 0.9575342\ttest: 0.8385093\tbest: 0.8633540 (24)\ttotal: 6.7s\tremaining: 1.84s\n",
      "784:\tlearn: 0.9575342\ttest: 0.8385093\tbest: 0.8633540 (24)\ttotal: 6.71s\tremaining: 1.84s\n",
      "785:\tlearn: 0.9575342\ttest: 0.8385093\tbest: 0.8633540 (24)\ttotal: 6.71s\tremaining: 1.83s\n",
      "786:\tlearn: 0.9575342\ttest: 0.8385093\tbest: 0.8633540 (24)\ttotal: 6.72s\tremaining: 1.82s\n",
      "787:\tlearn: 0.9561644\ttest: 0.8385093\tbest: 0.8633540 (24)\ttotal: 6.73s\tremaining: 1.81s\n",
      "788:\tlearn: 0.9589041\ttest: 0.8385093\tbest: 0.8633540 (24)\ttotal: 6.74s\tremaining: 1.8s\n",
      "789:\tlearn: 0.9589041\ttest: 0.8385093\tbest: 0.8633540 (24)\ttotal: 6.75s\tremaining: 1.79s\n",
      "790:\tlearn: 0.9589041\ttest: 0.8385093\tbest: 0.8633540 (24)\ttotal: 6.75s\tremaining: 1.78s\n",
      "791:\tlearn: 0.9589041\ttest: 0.8385093\tbest: 0.8633540 (24)\ttotal: 6.76s\tremaining: 1.78s\n",
      "792:\tlearn: 0.9589041\ttest: 0.8385093\tbest: 0.8633540 (24)\ttotal: 6.77s\tremaining: 1.77s\n",
      "793:\tlearn: 0.9589041\ttest: 0.8385093\tbest: 0.8633540 (24)\ttotal: 6.78s\tremaining: 1.76s\n",
      "794:\tlearn: 0.9589041\ttest: 0.8385093\tbest: 0.8633540 (24)\ttotal: 6.79s\tremaining: 1.75s\n",
      "795:\tlearn: 0.9589041\ttest: 0.8385093\tbest: 0.8633540 (24)\ttotal: 6.8s\tremaining: 1.74s\n",
      "796:\tlearn: 0.9589041\ttest: 0.8385093\tbest: 0.8633540 (24)\ttotal: 6.81s\tremaining: 1.73s\n",
      "797:\tlearn: 0.9589041\ttest: 0.8385093\tbest: 0.8633540 (24)\ttotal: 6.82s\tremaining: 1.73s\n",
      "798:\tlearn: 0.9589041\ttest: 0.8385093\tbest: 0.8633540 (24)\ttotal: 6.82s\tremaining: 1.72s\n",
      "799:\tlearn: 0.9589041\ttest: 0.8385093\tbest: 0.8633540 (24)\ttotal: 6.83s\tremaining: 1.71s\n",
      "800:\tlearn: 0.9589041\ttest: 0.8385093\tbest: 0.8633540 (24)\ttotal: 6.84s\tremaining: 1.7s\n",
      "801:\tlearn: 0.9589041\ttest: 0.8385093\tbest: 0.8633540 (24)\ttotal: 6.84s\tremaining: 1.69s\n",
      "802:\tlearn: 0.9589041\ttest: 0.8385093\tbest: 0.8633540 (24)\ttotal: 6.84s\tremaining: 1.68s\n",
      "803:\tlearn: 0.9589041\ttest: 0.8385093\tbest: 0.8633540 (24)\ttotal: 6.85s\tremaining: 1.67s\n",
      "804:\tlearn: 0.9589041\ttest: 0.8385093\tbest: 0.8633540 (24)\ttotal: 6.85s\tremaining: 1.66s\n",
      "805:\tlearn: 0.9589041\ttest: 0.8385093\tbest: 0.8633540 (24)\ttotal: 6.88s\tremaining: 1.66s\n",
      "806:\tlearn: 0.9589041\ttest: 0.8385093\tbest: 0.8633540 (24)\ttotal: 6.89s\tremaining: 1.65s\n",
      "807:\tlearn: 0.9589041\ttest: 0.8385093\tbest: 0.8633540 (24)\ttotal: 6.9s\tremaining: 1.64s\n",
      "808:\tlearn: 0.9589041\ttest: 0.8385093\tbest: 0.8633540 (24)\ttotal: 6.9s\tremaining: 1.63s\n",
      "809:\tlearn: 0.9589041\ttest: 0.8385093\tbest: 0.8633540 (24)\ttotal: 6.91s\tremaining: 1.62s\n",
      "810:\tlearn: 0.9589041\ttest: 0.8385093\tbest: 0.8633540 (24)\ttotal: 6.92s\tremaining: 1.61s\n",
      "811:\tlearn: 0.9589041\ttest: 0.8385093\tbest: 0.8633540 (24)\ttotal: 6.93s\tremaining: 1.6s\n",
      "812:\tlearn: 0.9589041\ttest: 0.8385093\tbest: 0.8633540 (24)\ttotal: 6.94s\tremaining: 1.59s\n",
      "813:\tlearn: 0.9589041\ttest: 0.8385093\tbest: 0.8633540 (24)\ttotal: 6.95s\tremaining: 1.59s\n",
      "814:\tlearn: 0.9589041\ttest: 0.8385093\tbest: 0.8633540 (24)\ttotal: 6.95s\tremaining: 1.58s\n",
      "815:\tlearn: 0.9589041\ttest: 0.8385093\tbest: 0.8633540 (24)\ttotal: 6.98s\tremaining: 1.57s\n",
      "816:\tlearn: 0.9589041\ttest: 0.8385093\tbest: 0.8633540 (24)\ttotal: 7s\tremaining: 1.57s\n",
      "817:\tlearn: 0.9589041\ttest: 0.8385093\tbest: 0.8633540 (24)\ttotal: 7.02s\tremaining: 1.56s\n",
      "818:\tlearn: 0.9589041\ttest: 0.8385093\tbest: 0.8633540 (24)\ttotal: 7.03s\tremaining: 1.55s\n",
      "819:\tlearn: 0.9589041\ttest: 0.8385093\tbest: 0.8633540 (24)\ttotal: 7.06s\tremaining: 1.55s\n",
      "820:\tlearn: 0.9589041\ttest: 0.8385093\tbest: 0.8633540 (24)\ttotal: 7.08s\tremaining: 1.54s\n",
      "821:\tlearn: 0.9589041\ttest: 0.8385093\tbest: 0.8633540 (24)\ttotal: 7.1s\tremaining: 1.54s\n",
      "822:\tlearn: 0.9589041\ttest: 0.8385093\tbest: 0.8633540 (24)\ttotal: 7.11s\tremaining: 1.53s\n",
      "823:\tlearn: 0.9589041\ttest: 0.8385093\tbest: 0.8633540 (24)\ttotal: 7.12s\tremaining: 1.52s\n",
      "824:\tlearn: 0.9589041\ttest: 0.8385093\tbest: 0.8633540 (24)\ttotal: 7.13s\tremaining: 1.51s\n",
      "825:\tlearn: 0.9589041\ttest: 0.8385093\tbest: 0.8633540 (24)\ttotal: 7.14s\tremaining: 1.5s\n",
      "826:\tlearn: 0.9589041\ttest: 0.8385093\tbest: 0.8633540 (24)\ttotal: 7.14s\tremaining: 1.49s\n",
      "827:\tlearn: 0.9589041\ttest: 0.8385093\tbest: 0.8633540 (24)\ttotal: 7.15s\tremaining: 1.49s\n",
      "828:\tlearn: 0.9589041\ttest: 0.8385093\tbest: 0.8633540 (24)\ttotal: 7.16s\tremaining: 1.48s\n",
      "829:\tlearn: 0.9589041\ttest: 0.8385093\tbest: 0.8633540 (24)\ttotal: 7.16s\tremaining: 1.47s\n",
      "830:\tlearn: 0.9589041\ttest: 0.8385093\tbest: 0.8633540 (24)\ttotal: 7.17s\tremaining: 1.46s\n",
      "831:\tlearn: 0.9602740\ttest: 0.8385093\tbest: 0.8633540 (24)\ttotal: 7.17s\tremaining: 1.45s\n",
      "832:\tlearn: 0.9602740\ttest: 0.8385093\tbest: 0.8633540 (24)\ttotal: 7.18s\tremaining: 1.44s\n",
      "833:\tlearn: 0.9602740\ttest: 0.8385093\tbest: 0.8633540 (24)\ttotal: 7.19s\tremaining: 1.43s\n",
      "834:\tlearn: 0.9602740\ttest: 0.8385093\tbest: 0.8633540 (24)\ttotal: 7.2s\tremaining: 1.42s\n",
      "835:\tlearn: 0.9602740\ttest: 0.8385093\tbest: 0.8633540 (24)\ttotal: 7.2s\tremaining: 1.41s\n",
      "836:\tlearn: 0.9602740\ttest: 0.8385093\tbest: 0.8633540 (24)\ttotal: 7.21s\tremaining: 1.4s\n",
      "837:\tlearn: 0.9602740\ttest: 0.8385093\tbest: 0.8633540 (24)\ttotal: 7.21s\tremaining: 1.39s\n",
      "838:\tlearn: 0.9602740\ttest: 0.8385093\tbest: 0.8633540 (24)\ttotal: 7.22s\tremaining: 1.39s\n",
      "839:\tlearn: 0.9602740\ttest: 0.8385093\tbest: 0.8633540 (24)\ttotal: 7.23s\tremaining: 1.38s\n",
      "840:\tlearn: 0.9602740\ttest: 0.8385093\tbest: 0.8633540 (24)\ttotal: 7.24s\tremaining: 1.37s\n",
      "841:\tlearn: 0.9602740\ttest: 0.8385093\tbest: 0.8633540 (24)\ttotal: 7.25s\tremaining: 1.36s\n",
      "842:\tlearn: 0.9602740\ttest: 0.8385093\tbest: 0.8633540 (24)\ttotal: 7.26s\tremaining: 1.35s\n",
      "843:\tlearn: 0.9602740\ttest: 0.8385093\tbest: 0.8633540 (24)\ttotal: 7.27s\tremaining: 1.34s\n",
      "844:\tlearn: 0.9602740\ttest: 0.8385093\tbest: 0.8633540 (24)\ttotal: 7.28s\tremaining: 1.33s\n",
      "845:\tlearn: 0.9616438\ttest: 0.8385093\tbest: 0.8633540 (24)\ttotal: 7.29s\tremaining: 1.33s\n",
      "846:\tlearn: 0.9616438\ttest: 0.8385093\tbest: 0.8633540 (24)\ttotal: 7.29s\tremaining: 1.32s\n",
      "847:\tlearn: 0.9630137\ttest: 0.8385093\tbest: 0.8633540 (24)\ttotal: 7.3s\tremaining: 1.31s\n",
      "848:\tlearn: 0.9630137\ttest: 0.8385093\tbest: 0.8633540 (24)\ttotal: 7.3s\tremaining: 1.3s\n",
      "849:\tlearn: 0.9630137\ttest: 0.8385093\tbest: 0.8633540 (24)\ttotal: 7.31s\tremaining: 1.29s\n",
      "850:\tlearn: 0.9630137\ttest: 0.8385093\tbest: 0.8633540 (24)\ttotal: 7.32s\tremaining: 1.28s\n",
      "851:\tlearn: 0.9630137\ttest: 0.8385093\tbest: 0.8633540 (24)\ttotal: 7.33s\tremaining: 1.27s\n",
      "852:\tlearn: 0.9630137\ttest: 0.8385093\tbest: 0.8633540 (24)\ttotal: 7.34s\tremaining: 1.26s\n",
      "853:\tlearn: 0.9630137\ttest: 0.8385093\tbest: 0.8633540 (24)\ttotal: 7.34s\tremaining: 1.25s\n",
      "854:\tlearn: 0.9630137\ttest: 0.8385093\tbest: 0.8633540 (24)\ttotal: 7.35s\tremaining: 1.25s\n"
     ]
    },
    {
     "name": "stdout",
     "output_type": "stream",
     "text": [
      "855:\tlearn: 0.9630137\ttest: 0.8385093\tbest: 0.8633540 (24)\ttotal: 7.36s\tremaining: 1.24s\n",
      "856:\tlearn: 0.9630137\ttest: 0.8385093\tbest: 0.8633540 (24)\ttotal: 7.36s\tremaining: 1.23s\n",
      "857:\tlearn: 0.9630137\ttest: 0.8385093\tbest: 0.8633540 (24)\ttotal: 7.36s\tremaining: 1.22s\n",
      "858:\tlearn: 0.9630137\ttest: 0.8385093\tbest: 0.8633540 (24)\ttotal: 7.37s\tremaining: 1.21s\n",
      "859:\tlearn: 0.9630137\ttest: 0.8385093\tbest: 0.8633540 (24)\ttotal: 7.38s\tremaining: 1.2s\n",
      "860:\tlearn: 0.9630137\ttest: 0.8385093\tbest: 0.8633540 (24)\ttotal: 7.38s\tremaining: 1.19s\n",
      "861:\tlearn: 0.9630137\ttest: 0.8385093\tbest: 0.8633540 (24)\ttotal: 7.39s\tremaining: 1.18s\n",
      "862:\tlearn: 0.9630137\ttest: 0.8385093\tbest: 0.8633540 (24)\ttotal: 7.4s\tremaining: 1.17s\n",
      "863:\tlearn: 0.9630137\ttest: 0.8385093\tbest: 0.8633540 (24)\ttotal: 7.4s\tremaining: 1.17s\n",
      "864:\tlearn: 0.9630137\ttest: 0.8385093\tbest: 0.8633540 (24)\ttotal: 7.41s\tremaining: 1.16s\n",
      "865:\tlearn: 0.9630137\ttest: 0.8385093\tbest: 0.8633540 (24)\ttotal: 7.42s\tremaining: 1.15s\n",
      "866:\tlearn: 0.9630137\ttest: 0.8385093\tbest: 0.8633540 (24)\ttotal: 7.42s\tremaining: 1.14s\n",
      "867:\tlearn: 0.9630137\ttest: 0.8385093\tbest: 0.8633540 (24)\ttotal: 7.43s\tremaining: 1.13s\n",
      "868:\tlearn: 0.9630137\ttest: 0.8385093\tbest: 0.8633540 (24)\ttotal: 7.44s\tremaining: 1.12s\n",
      "869:\tlearn: 0.9630137\ttest: 0.8385093\tbest: 0.8633540 (24)\ttotal: 7.45s\tremaining: 1.11s\n",
      "870:\tlearn: 0.9630137\ttest: 0.8385093\tbest: 0.8633540 (24)\ttotal: 7.46s\tremaining: 1.1s\n",
      "871:\tlearn: 0.9630137\ttest: 0.8385093\tbest: 0.8633540 (24)\ttotal: 7.47s\tremaining: 1.09s\n",
      "872:\tlearn: 0.9630137\ttest: 0.8385093\tbest: 0.8633540 (24)\ttotal: 7.48s\tremaining: 1.09s\n",
      "873:\tlearn: 0.9630137\ttest: 0.8385093\tbest: 0.8633540 (24)\ttotal: 7.49s\tremaining: 1.08s\n",
      "874:\tlearn: 0.9630137\ttest: 0.8385093\tbest: 0.8633540 (24)\ttotal: 7.49s\tremaining: 1.07s\n",
      "875:\tlearn: 0.9630137\ttest: 0.8385093\tbest: 0.8633540 (24)\ttotal: 7.5s\tremaining: 1.06s\n",
      "876:\tlearn: 0.9630137\ttest: 0.8385093\tbest: 0.8633540 (24)\ttotal: 7.51s\tremaining: 1.05s\n",
      "877:\tlearn: 0.9630137\ttest: 0.8385093\tbest: 0.8633540 (24)\ttotal: 7.51s\tremaining: 1.04s\n",
      "878:\tlearn: 0.9630137\ttest: 0.8385093\tbest: 0.8633540 (24)\ttotal: 7.52s\tremaining: 1.03s\n",
      "879:\tlearn: 0.9630137\ttest: 0.8385093\tbest: 0.8633540 (24)\ttotal: 7.53s\tremaining: 1.03s\n",
      "880:\tlearn: 0.9630137\ttest: 0.8385093\tbest: 0.8633540 (24)\ttotal: 7.54s\tremaining: 1.02s\n",
      "881:\tlearn: 0.9630137\ttest: 0.8385093\tbest: 0.8633540 (24)\ttotal: 7.55s\tremaining: 1.01s\n",
      "882:\tlearn: 0.9630137\ttest: 0.8385093\tbest: 0.8633540 (24)\ttotal: 7.56s\tremaining: 1s\n",
      "883:\tlearn: 0.9630137\ttest: 0.8385093\tbest: 0.8633540 (24)\ttotal: 7.57s\tremaining: 993ms\n",
      "884:\tlearn: 0.9630137\ttest: 0.8385093\tbest: 0.8633540 (24)\ttotal: 7.58s\tremaining: 984ms\n",
      "885:\tlearn: 0.9630137\ttest: 0.8385093\tbest: 0.8633540 (24)\ttotal: 7.58s\tremaining: 975ms\n",
      "886:\tlearn: 0.9630137\ttest: 0.8385093\tbest: 0.8633540 (24)\ttotal: 7.58s\tremaining: 966ms\n",
      "887:\tlearn: 0.9630137\ttest: 0.8385093\tbest: 0.8633540 (24)\ttotal: 7.59s\tremaining: 957ms\n",
      "888:\tlearn: 0.9630137\ttest: 0.8385093\tbest: 0.8633540 (24)\ttotal: 7.59s\tremaining: 948ms\n",
      "889:\tlearn: 0.9630137\ttest: 0.8385093\tbest: 0.8633540 (24)\ttotal: 7.6s\tremaining: 939ms\n",
      "890:\tlearn: 0.9630137\ttest: 0.8385093\tbest: 0.8633540 (24)\ttotal: 7.61s\tremaining: 931ms\n",
      "891:\tlearn: 0.9630137\ttest: 0.8385093\tbest: 0.8633540 (24)\ttotal: 7.61s\tremaining: 922ms\n",
      "892:\tlearn: 0.9630137\ttest: 0.8385093\tbest: 0.8633540 (24)\ttotal: 7.62s\tremaining: 913ms\n",
      "893:\tlearn: 0.9643836\ttest: 0.8385093\tbest: 0.8633540 (24)\ttotal: 7.63s\tremaining: 905ms\n",
      "894:\tlearn: 0.9643836\ttest: 0.8385093\tbest: 0.8633540 (24)\ttotal: 7.64s\tremaining: 896ms\n",
      "895:\tlearn: 0.9643836\ttest: 0.8385093\tbest: 0.8633540 (24)\ttotal: 7.64s\tremaining: 887ms\n",
      "896:\tlearn: 0.9657534\ttest: 0.8385093\tbest: 0.8633540 (24)\ttotal: 7.64s\tremaining: 878ms\n",
      "897:\tlearn: 0.9643836\ttest: 0.8385093\tbest: 0.8633540 (24)\ttotal: 7.65s\tremaining: 869ms\n",
      "898:\tlearn: 0.9643836\ttest: 0.8385093\tbest: 0.8633540 (24)\ttotal: 7.66s\tremaining: 860ms\n",
      "899:\tlearn: 0.9643836\ttest: 0.8385093\tbest: 0.8633540 (24)\ttotal: 7.66s\tremaining: 851ms\n",
      "900:\tlearn: 0.9643836\ttest: 0.8385093\tbest: 0.8633540 (24)\ttotal: 7.66s\tremaining: 842ms\n",
      "901:\tlearn: 0.9643836\ttest: 0.8385093\tbest: 0.8633540 (24)\ttotal: 7.66s\tremaining: 833ms\n",
      "902:\tlearn: 0.9643836\ttest: 0.8385093\tbest: 0.8633540 (24)\ttotal: 7.69s\tremaining: 826ms\n",
      "903:\tlearn: 0.9657534\ttest: 0.8385093\tbest: 0.8633540 (24)\ttotal: 7.7s\tremaining: 818ms\n",
      "904:\tlearn: 0.9657534\ttest: 0.8385093\tbest: 0.8633540 (24)\ttotal: 7.71s\tremaining: 809ms\n",
      "905:\tlearn: 0.9657534\ttest: 0.8385093\tbest: 0.8633540 (24)\ttotal: 7.73s\tremaining: 802ms\n",
      "906:\tlearn: 0.9657534\ttest: 0.8385093\tbest: 0.8633540 (24)\ttotal: 7.74s\tremaining: 794ms\n",
      "907:\tlearn: 0.9657534\ttest: 0.8385093\tbest: 0.8633540 (24)\ttotal: 7.76s\tremaining: 786ms\n",
      "908:\tlearn: 0.9657534\ttest: 0.8385093\tbest: 0.8633540 (24)\ttotal: 7.77s\tremaining: 778ms\n",
      "909:\tlearn: 0.9657534\ttest: 0.8385093\tbest: 0.8633540 (24)\ttotal: 7.78s\tremaining: 769ms\n",
      "910:\tlearn: 0.9643836\ttest: 0.8385093\tbest: 0.8633540 (24)\ttotal: 7.79s\tremaining: 761ms\n",
      "911:\tlearn: 0.9630137\ttest: 0.8385093\tbest: 0.8633540 (24)\ttotal: 7.8s\tremaining: 752ms\n",
      "912:\tlearn: 0.9630137\ttest: 0.8385093\tbest: 0.8633540 (24)\ttotal: 7.8s\tremaining: 744ms\n",
      "913:\tlearn: 0.9630137\ttest: 0.8385093\tbest: 0.8633540 (24)\ttotal: 7.81s\tremaining: 735ms\n",
      "914:\tlearn: 0.9630137\ttest: 0.8385093\tbest: 0.8633540 (24)\ttotal: 7.82s\tremaining: 727ms\n",
      "915:\tlearn: 0.9630137\ttest: 0.8385093\tbest: 0.8633540 (24)\ttotal: 7.83s\tremaining: 718ms\n",
      "916:\tlearn: 0.9643836\ttest: 0.8385093\tbest: 0.8633540 (24)\ttotal: 7.83s\tremaining: 709ms\n",
      "917:\tlearn: 0.9657534\ttest: 0.8385093\tbest: 0.8633540 (24)\ttotal: 7.84s\tremaining: 700ms\n",
      "918:\tlearn: 0.9657534\ttest: 0.8385093\tbest: 0.8633540 (24)\ttotal: 7.84s\tremaining: 691ms\n",
      "919:\tlearn: 0.9657534\ttest: 0.8385093\tbest: 0.8633540 (24)\ttotal: 7.85s\tremaining: 683ms\n",
      "920:\tlearn: 0.9643836\ttest: 0.8385093\tbest: 0.8633540 (24)\ttotal: 7.86s\tremaining: 674ms\n",
      "921:\tlearn: 0.9643836\ttest: 0.8385093\tbest: 0.8633540 (24)\ttotal: 7.87s\tremaining: 666ms\n",
      "922:\tlearn: 0.9657534\ttest: 0.8385093\tbest: 0.8633540 (24)\ttotal: 7.88s\tremaining: 657ms\n",
      "923:\tlearn: 0.9643836\ttest: 0.8385093\tbest: 0.8633540 (24)\ttotal: 7.89s\tremaining: 649ms\n",
      "924:\tlearn: 0.9643836\ttest: 0.8385093\tbest: 0.8633540 (24)\ttotal: 7.9s\tremaining: 640ms\n",
      "925:\tlearn: 0.9657534\ttest: 0.8385093\tbest: 0.8633540 (24)\ttotal: 7.91s\tremaining: 632ms\n",
      "926:\tlearn: 0.9643836\ttest: 0.8385093\tbest: 0.8633540 (24)\ttotal: 7.92s\tremaining: 623ms\n",
      "927:\tlearn: 0.9657534\ttest: 0.8385093\tbest: 0.8633540 (24)\ttotal: 7.92s\tremaining: 615ms\n",
      "928:\tlearn: 0.9657534\ttest: 0.8385093\tbest: 0.8633540 (24)\ttotal: 7.94s\tremaining: 607ms\n",
      "929:\tlearn: 0.9657534\ttest: 0.8385093\tbest: 0.8633540 (24)\ttotal: 7.95s\tremaining: 598ms\n",
      "930:\tlearn: 0.9657534\ttest: 0.8385093\tbest: 0.8633540 (24)\ttotal: 7.98s\tremaining: 591ms\n",
      "931:\tlearn: 0.9657534\ttest: 0.8385093\tbest: 0.8633540 (24)\ttotal: 7.99s\tremaining: 583ms\n",
      "932:\tlearn: 0.9657534\ttest: 0.8385093\tbest: 0.8633540 (24)\ttotal: 8s\tremaining: 574ms\n",
      "933:\tlearn: 0.9657534\ttest: 0.8385093\tbest: 0.8633540 (24)\ttotal: 8.01s\tremaining: 566ms\n",
      "934:\tlearn: 0.9657534\ttest: 0.8385093\tbest: 0.8633540 (24)\ttotal: 8.01s\tremaining: 557ms\n",
      "935:\tlearn: 0.9671233\ttest: 0.8385093\tbest: 0.8633540 (24)\ttotal: 8.02s\tremaining: 548ms\n",
      "936:\tlearn: 0.9671233\ttest: 0.8385093\tbest: 0.8633540 (24)\ttotal: 8.03s\tremaining: 540ms\n",
      "937:\tlearn: 0.9671233\ttest: 0.8385093\tbest: 0.8633540 (24)\ttotal: 8.04s\tremaining: 531ms\n",
      "938:\tlearn: 0.9671233\ttest: 0.8385093\tbest: 0.8633540 (24)\ttotal: 8.04s\tremaining: 523ms\n",
      "939:\tlearn: 0.9671233\ttest: 0.8385093\tbest: 0.8633540 (24)\ttotal: 8.05s\tremaining: 514ms\n",
      "940:\tlearn: 0.9657534\ttest: 0.8322981\tbest: 0.8633540 (24)\ttotal: 8.06s\tremaining: 505ms\n",
      "941:\tlearn: 0.9657534\ttest: 0.8322981\tbest: 0.8633540 (24)\ttotal: 8.07s\tremaining: 497ms\n",
      "942:\tlearn: 0.9657534\ttest: 0.8322981\tbest: 0.8633540 (24)\ttotal: 8.08s\tremaining: 488ms\n",
      "943:\tlearn: 0.9657534\ttest: 0.8322981\tbest: 0.8633540 (24)\ttotal: 8.09s\tremaining: 480ms\n",
      "944:\tlearn: 0.9657534\ttest: 0.8385093\tbest: 0.8633540 (24)\ttotal: 8.1s\tremaining: 472ms\n",
      "945:\tlearn: 0.9657534\ttest: 0.8322981\tbest: 0.8633540 (24)\ttotal: 8.11s\tremaining: 463ms\n",
      "946:\tlearn: 0.9671233\ttest: 0.8322981\tbest: 0.8633540 (24)\ttotal: 8.12s\tremaining: 455ms\n",
      "947:\tlearn: 0.9671233\ttest: 0.8322981\tbest: 0.8633540 (24)\ttotal: 8.13s\tremaining: 446ms\n"
     ]
    },
    {
     "name": "stdout",
     "output_type": "stream",
     "text": [
      "948:\tlearn: 0.9684932\ttest: 0.8322981\tbest: 0.8633540 (24)\ttotal: 8.14s\tremaining: 438ms\n",
      "949:\tlearn: 0.9684932\ttest: 0.8322981\tbest: 0.8633540 (24)\ttotal: 8.15s\tremaining: 429ms\n",
      "950:\tlearn: 0.9684932\ttest: 0.8322981\tbest: 0.8633540 (24)\ttotal: 8.16s\tremaining: 421ms\n",
      "951:\tlearn: 0.9684932\ttest: 0.8322981\tbest: 0.8633540 (24)\ttotal: 8.17s\tremaining: 412ms\n",
      "952:\tlearn: 0.9684932\ttest: 0.8322981\tbest: 0.8633540 (24)\ttotal: 8.18s\tremaining: 404ms\n",
      "953:\tlearn: 0.9698630\ttest: 0.8322981\tbest: 0.8633540 (24)\ttotal: 8.19s\tremaining: 395ms\n",
      "954:\tlearn: 0.9698630\ttest: 0.8322981\tbest: 0.8633540 (24)\ttotal: 8.2s\tremaining: 387ms\n",
      "955:\tlearn: 0.9698630\ttest: 0.8322981\tbest: 0.8633540 (24)\ttotal: 8.21s\tremaining: 378ms\n",
      "956:\tlearn: 0.9698630\ttest: 0.8385093\tbest: 0.8633540 (24)\ttotal: 8.21s\tremaining: 369ms\n",
      "957:\tlearn: 0.9698630\ttest: 0.8385093\tbest: 0.8633540 (24)\ttotal: 8.22s\tremaining: 360ms\n",
      "958:\tlearn: 0.9698630\ttest: 0.8385093\tbest: 0.8633540 (24)\ttotal: 8.23s\tremaining: 352ms\n",
      "959:\tlearn: 0.9684932\ttest: 0.8385093\tbest: 0.8633540 (24)\ttotal: 8.23s\tremaining: 343ms\n",
      "960:\tlearn: 0.9698630\ttest: 0.8385093\tbest: 0.8633540 (24)\ttotal: 8.24s\tremaining: 334ms\n",
      "961:\tlearn: 0.9712329\ttest: 0.8385093\tbest: 0.8633540 (24)\ttotal: 8.25s\tremaining: 326ms\n",
      "962:\tlearn: 0.9712329\ttest: 0.8385093\tbest: 0.8633540 (24)\ttotal: 8.26s\tremaining: 317ms\n",
      "963:\tlearn: 0.9698630\ttest: 0.8385093\tbest: 0.8633540 (24)\ttotal: 8.26s\tremaining: 309ms\n",
      "964:\tlearn: 0.9712329\ttest: 0.8385093\tbest: 0.8633540 (24)\ttotal: 8.27s\tremaining: 300ms\n",
      "965:\tlearn: 0.9712329\ttest: 0.8385093\tbest: 0.8633540 (24)\ttotal: 8.28s\tremaining: 291ms\n",
      "966:\tlearn: 0.9712329\ttest: 0.8385093\tbest: 0.8633540 (24)\ttotal: 8.29s\tremaining: 283ms\n",
      "967:\tlearn: 0.9712329\ttest: 0.8385093\tbest: 0.8633540 (24)\ttotal: 8.3s\tremaining: 274ms\n",
      "968:\tlearn: 0.9712329\ttest: 0.8385093\tbest: 0.8633540 (24)\ttotal: 8.31s\tremaining: 266ms\n",
      "969:\tlearn: 0.9712329\ttest: 0.8385093\tbest: 0.8633540 (24)\ttotal: 8.31s\tremaining: 257ms\n",
      "970:\tlearn: 0.9712329\ttest: 0.8385093\tbest: 0.8633540 (24)\ttotal: 8.32s\tremaining: 249ms\n",
      "971:\tlearn: 0.9712329\ttest: 0.8385093\tbest: 0.8633540 (24)\ttotal: 8.34s\tremaining: 240ms\n",
      "972:\tlearn: 0.9712329\ttest: 0.8385093\tbest: 0.8633540 (24)\ttotal: 8.34s\tremaining: 232ms\n",
      "973:\tlearn: 0.9712329\ttest: 0.8385093\tbest: 0.8633540 (24)\ttotal: 8.35s\tremaining: 223ms\n",
      "974:\tlearn: 0.9712329\ttest: 0.8447205\tbest: 0.8633540 (24)\ttotal: 8.36s\tremaining: 214ms\n",
      "975:\tlearn: 0.9712329\ttest: 0.8447205\tbest: 0.8633540 (24)\ttotal: 8.37s\tremaining: 206ms\n",
      "976:\tlearn: 0.9712329\ttest: 0.8447205\tbest: 0.8633540 (24)\ttotal: 8.38s\tremaining: 197ms\n",
      "977:\tlearn: 0.9712329\ttest: 0.8447205\tbest: 0.8633540 (24)\ttotal: 8.38s\tremaining: 189ms\n",
      "978:\tlearn: 0.9712329\ttest: 0.8447205\tbest: 0.8633540 (24)\ttotal: 8.41s\tremaining: 181ms\n",
      "979:\tlearn: 0.9712329\ttest: 0.8385093\tbest: 0.8633540 (24)\ttotal: 8.43s\tremaining: 172ms\n",
      "980:\tlearn: 0.9712329\ttest: 0.8385093\tbest: 0.8633540 (24)\ttotal: 8.44s\tremaining: 163ms\n",
      "981:\tlearn: 0.9712329\ttest: 0.8385093\tbest: 0.8633540 (24)\ttotal: 8.45s\tremaining: 155ms\n",
      "982:\tlearn: 0.9712329\ttest: 0.8385093\tbest: 0.8633540 (24)\ttotal: 8.46s\tremaining: 146ms\n",
      "983:\tlearn: 0.9712329\ttest: 0.8385093\tbest: 0.8633540 (24)\ttotal: 8.47s\tremaining: 138ms\n",
      "984:\tlearn: 0.9712329\ttest: 0.8385093\tbest: 0.8633540 (24)\ttotal: 8.47s\tremaining: 129ms\n",
      "985:\tlearn: 0.9712329\ttest: 0.8385093\tbest: 0.8633540 (24)\ttotal: 8.48s\tremaining: 120ms\n",
      "986:\tlearn: 0.9712329\ttest: 0.8385093\tbest: 0.8633540 (24)\ttotal: 8.49s\tremaining: 112ms\n",
      "987:\tlearn: 0.9712329\ttest: 0.8385093\tbest: 0.8633540 (24)\ttotal: 8.5s\tremaining: 103ms\n",
      "988:\tlearn: 0.9712329\ttest: 0.8385093\tbest: 0.8633540 (24)\ttotal: 8.51s\tremaining: 94.6ms\n",
      "989:\tlearn: 0.9712329\ttest: 0.8385093\tbest: 0.8633540 (24)\ttotal: 8.52s\tremaining: 86.1ms\n",
      "990:\tlearn: 0.9712329\ttest: 0.8385093\tbest: 0.8633540 (24)\ttotal: 8.53s\tremaining: 77.4ms\n",
      "991:\tlearn: 0.9712329\ttest: 0.8385093\tbest: 0.8633540 (24)\ttotal: 8.53s\tremaining: 68.8ms\n",
      "992:\tlearn: 0.9712329\ttest: 0.8385093\tbest: 0.8633540 (24)\ttotal: 8.54s\tremaining: 60.2ms\n",
      "993:\tlearn: 0.9726027\ttest: 0.8385093\tbest: 0.8633540 (24)\ttotal: 8.55s\tremaining: 51.6ms\n",
      "994:\tlearn: 0.9726027\ttest: 0.8385093\tbest: 0.8633540 (24)\ttotal: 8.55s\tremaining: 43ms\n",
      "995:\tlearn: 0.9726027\ttest: 0.8385093\tbest: 0.8633540 (24)\ttotal: 8.56s\tremaining: 34.4ms\n",
      "996:\tlearn: 0.9726027\ttest: 0.8385093\tbest: 0.8633540 (24)\ttotal: 8.57s\tremaining: 25.8ms\n",
      "997:\tlearn: 0.9726027\ttest: 0.8385093\tbest: 0.8633540 (24)\ttotal: 8.57s\tremaining: 17.2ms\n",
      "998:\tlearn: 0.9726027\ttest: 0.8385093\tbest: 0.8633540 (24)\ttotal: 8.58s\tremaining: 8.59ms\n",
      "999:\tlearn: 0.9726027\ttest: 0.8385093\tbest: 0.8633540 (24)\ttotal: 8.6s\tremaining: 0us\n",
      "\n",
      "bestTest = 0.8633540373\n",
      "bestIteration = 24\n",
      "\n",
      "Shrink model to first 25 iterations.\n"
     ]
    },
    {
     "data": {
      "text/plain": [
       "<catboost.core.CatBoostClassifier at 0x20112474518>"
      ]
     },
     "execution_count": 69,
     "metadata": {},
     "output_type": "execute_result"
    }
   ],
   "source": [
    "model.fit(xtrain,ytrain,cat_features=cat_feat,eval_set=(xtest,ytest))"
   ]
  },
  {
   "cell_type": "code",
   "execution_count": 70,
   "metadata": {},
   "outputs": [
    {
     "name": "stdout",
     "output_type": "stream",
     "text": [
      "the test accuracy is :0.863354\n"
     ]
    }
   ],
   "source": [
    "print('the test accuracy is :{:.6f}'.format(accuracy_score(ytest,model.predict(xtest))))"
   ]
  },
  {
   "cell_type": "code",
   "execution_count": 71,
   "metadata": {},
   "outputs": [],
   "source": [
    "pred = model.predict(test)\n",
    "pred = pred.astype(np.int)\n",
    "submission = pd.DataFrame({'PassengerId':test['PassengerId'],'Survived':pred})"
   ]
  },
  {
   "cell_type": "code",
   "execution_count": 65,
   "metadata": {},
   "outputs": [],
   "source": [
    "submission.to_csv('F:/pdfs/titanic kaggle dataset/submission_catboost1.csv',index=False)"
   ]
  },
  {
   "cell_type": "code",
   "execution_count": null,
   "metadata": {},
   "outputs": [],
   "source": []
  }
 ],
 "metadata": {
  "kernelspec": {
   "display_name": "Python 3",
   "language": "python",
   "name": "python3"
  },
  "language_info": {
   "codemirror_mode": {
    "name": "ipython",
    "version": 3
   },
   "file_extension": ".py",
   "mimetype": "text/x-python",
   "name": "python",
   "nbconvert_exporter": "python",
   "pygments_lexer": "ipython3",
   "version": "3.7.3"
  }
 },
 "nbformat": 4,
 "nbformat_minor": 2
}
